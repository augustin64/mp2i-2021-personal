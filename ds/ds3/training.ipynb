{
 "cells": [
  {
   "cell_type": "code",
   "execution_count": 1,
   "id": "db48462c-cae9-4c1d-a6e7-8cbae79583fa",
   "metadata": {},
   "outputs": [],
   "source": [
    "uint singleton(uint i) {\n",
    "      return 1 << i;\n",
    "};"
   ]
  },
  {
   "cell_type": "code",
   "execution_count": 2,
   "id": "012e74cd-19b7-40ad-ab43-2d41f6b27a91",
   "metadata": {},
   "outputs": [],
   "source": [
    "uint union2(uint s1, uint s2) {\n",
    "    return s1 & s2;\n",
    "};"
   ]
  },
  {
   "cell_type": "code",
   "execution_count": 3,
   "id": "9142e46c-0578-4355-9ea2-cd5fb912fecc",
   "metadata": {},
   "outputs": [],
   "source": [
    "bool has(uint s, uint e) {\n",
    "    return union2(s, singleton(e)) != 0;\n",
    "};"
   ]
  },
  {
   "cell_type": "code",
   "execution_count": 4,
   "id": "2372a124-f69c-48aa-b38f-a684fe44c3c3",
   "metadata": {},
   "outputs": [],
   "source": [
    "uint card(uint s) {\n",
    "    uint c = 0;\n",
    "    while (s != 0) {\n",
    "        c++;\n",
    "        s = s & (s-1);\n",
    "    };\n",
    "    return c;\n",
    "};"
   ]
  },
  {
   "cell_type": "code",
   "execution_count": 5,
   "id": "3498aa79-23d6-4e76-858e-37cf916ce7b4",
   "metadata": {},
   "outputs": [],
   "source": [
    "void swap(int* a, int* b) {\n",
    "    int tmp = *a;\n",
    "    *a = *b;\n",
    "    *b = tmp;\n",
    "};"
   ]
  },
  {
   "cell_type": "code",
   "execution_count": 6,
   "id": "98e5f0c4-15e6-43ee-80d5-1271d0128c9b",
   "metadata": {},
   "outputs": [
    {
     "name": "stdout",
     "output_type": "stream",
     "text": [
      "a: 10, b: 5"
     ]
    }
   ],
   "source": [
    "int a = 5;\n",
    "int b = 10;\n",
    "swap(&a, &b);\n",
    "printf(\"a: %d, b: %d\", a, b);"
   ]
  },
  {
   "cell_type": "code",
   "execution_count": 7,
   "id": "58027354-5bef-451f-8836-71bb04c35017",
   "metadata": {},
   "outputs": [],
   "source": [
    "int exp_rapide(int a, uint n) {\n",
    "    if (n==1) {\n",
    "        return a;\n",
    "    };\n",
    "    int a_n = exp_rapide(a, n/2);\n",
    "    if (n % 2 == 0) {\n",
    "        return a_n * a_n;\n",
    "    };\n",
    "    return a_n * a_n * a;\n",
    "};"
   ]
  },
  {
   "cell_type": "code",
   "execution_count": 8,
   "id": "f15c731a-f9e5-4193-a543-83ce9325d434",
   "metadata": {},
   "outputs": [
    {
     "name": "stdout",
     "output_type": "stream",
     "text": [
      "256 "
     ]
    }
   ],
   "source": [
    "printf(\"%d \", exp_rapide(4, 4));"
   ]
  },
  {
   "cell_type": "code",
   "execution_count": 21,
   "id": "1603e967-b1e1-437b-8585-2285f16524c8",
   "metadata": {},
   "outputs": [],
   "source": [
    "void hanoi(uint pile1, uint pile2, uint n) {\n",
    "    uint pile3 = 3 - pile1 - pile2;\n",
    "    if (n==0)\n",
    "        return 0;\n",
    "    hanoi(pile1, pile3, n-1);\n",
    "    printf(\"Déplace %d vers %d\\n\", pile1, pile3);\n",
    "    hanoi(pile3, pile2, n-1);\n",
    "}"
   ]
  },
  {
   "cell_type": "code",
   "execution_count": 22,
   "id": "6557c3e2-c1d2-4524-b9ed-9417a9b5aa7d",
   "metadata": {},
   "outputs": [],
   "source": [
    "hanoi(1, 2, 0);"
   ]
  },
  {
   "cell_type": "code",
   "execution_count": null,
   "id": "d6a8a40d-7f06-405e-a468-f05ecb1b6101",
   "metadata": {},
   "outputs": [],
   "source": []
  }
 ],
 "metadata": {
  "kernelspec": {
   "display_name": "C++14",
   "language": "C++14",
   "name": "xcpp14"
  },
  "language_info": {
   "codemirror_mode": "text/x-c++src",
   "file_extension": ".cpp",
   "mimetype": "text/x-c++src",
   "name": "c++",
   "version": "14"
  }
 },
 "nbformat": 4,
 "nbformat_minor": 5
}
