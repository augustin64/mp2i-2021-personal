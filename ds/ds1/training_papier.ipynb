{
 "cells": [
  {
   "cell_type": "code",
   "execution_count": 3,
   "id": "8ea38637-9dad-4dd7-8084-dcf00ed1dde1",
   "metadata": {},
   "outputs": [
    {
     "data": {
      "text/plain": [
       "val swap : 'a ref -> 'a ref -> unit = <fun>\n"
      ]
     },
     "execution_count": 3,
     "metadata": {},
     "output_type": "execute_result"
    }
   ],
   "source": [
    "let swap a b =\n",
    "    let c = !a in\n",
    "    a:= !b;\n",
    "    b := c;;"
   ]
  },
  {
   "cell_type": "code",
   "execution_count": 4,
   "id": "0e659ab4-8d42-4dff-bb9f-0ca76c918971",
   "metadata": {},
   "outputs": [
    {
     "data": {
      "text/plain": [
       "val taille : 'a list -> int = <fun>\n"
      ]
     },
     "execution_count": 4,
     "metadata": {},
     "output_type": "execute_result"
    }
   ],
   "source": [
    "let rec taille l = match l with\n",
    "    | [] -> 0\n",
    "    | e::q -> 1 + taille q;;"
   ]
  },
  {
   "cell_type": "code",
   "execution_count": 5,
   "id": "581f84db-62d5-494e-9f77-a57f9dbbe584",
   "metadata": {},
   "outputs": [
    {
     "data": {
      "text/plain": [
       "val lmem : 'a -> 'a list -> bool = <fun>\n"
      ]
     },
     "execution_count": 5,
     "metadata": {},
     "output_type": "execute_result"
    }
   ],
   "source": [
    "let rec lmem elt l = match l with\n",
    "    | [] -> false\n",
    "    | e::q -> elt=e || lmem elt q;;"
   ]
  },
  {
   "cell_type": "code",
   "execution_count": 6,
   "id": "bdd63aec-0598-4649-8a46-30c878ae277d",
   "metadata": {},
   "outputs": [
    {
     "data": {
      "text/plain": [
       "val tmem : 'a -> 'a array -> bool = <fun>\n"
      ]
     },
     "execution_count": 6,
     "metadata": {},
     "output_type": "execute_result"
    }
   ],
   "source": [
    "let tmem elt t =\n",
    "    let verif = ref false in\n",
    "    for i=0 to Array.length t -1 do\n",
    "        verif := t.(i)=elt || !verif\n",
    "    done;\n",
    "    !verif;;"
   ]
  },
  {
   "cell_type": "code",
   "execution_count": 7,
   "id": "45cbe24e-26ea-477b-89a4-25a94dfdca86",
   "metadata": {},
   "outputs": [
    {
     "data": {
      "text/plain": [
       "val merge : 'a list -> 'a list -> 'a list = <fun>\n"
      ]
     },
     "execution_count": 7,
     "metadata": {},
     "output_type": "execute_result"
    }
   ],
   "source": [
    "let rec merge l1 l2 = match l1 with\n",
    "    | [] -> l2\n",
    "    | e::q -> e::(merge q l2);;"
   ]
  },
  {
   "cell_type": "code",
   "execution_count": 36,
   "id": "b4da6341-e0fc-4830-9bed-9bc23c815fcb",
   "metadata": {},
   "outputs": [
    {
     "data": {
      "text/plain": [
       "val rev : 'a list -> 'a list -> 'a list = <fun>\n"
      ]
     },
     "execution_count": 36,
     "metadata": {},
     "output_type": "execute_result"
    }
   ],
   "source": [
    "let rec rev l acc = match l with\n",
    "    | [] -> acc\n",
    "    | e::q -> rev q (e::acc);;"
   ]
  },
  {
   "cell_type": "code",
   "execution_count": 39,
   "id": "2dcb6e2d-2931-4a42-b7c5-bf05dee88a48",
   "metadata": {},
   "outputs": [
    {
     "data": {
      "text/plain": [
       "val min_l : int list -> int = <fun>\n"
      ]
     },
     "execution_count": 39,
     "metadata": {},
     "output_type": "execute_result"
    }
   ],
   "source": [
    "let rec min_l l = match l with\n",
    "    | [] -> max_int\n",
    "    | e::q -> let min = min_l q in\n",
    "                if min > e then e\n",
    "                else min;;"
   ]
  },
  {
   "cell_type": "code",
   "execution_count": 11,
   "id": "8eae3e4b-b293-42d0-91b1-5a11a2550790",
   "metadata": {},
   "outputs": [
    {
     "data": {
      "text/plain": [
       "val min_t : int array -> int = <fun>\n"
      ]
     },
     "execution_count": 11,
     "metadata": {},
     "output_type": "execute_result"
    }
   ],
   "source": [
    "let min_t t = \n",
    "    let m = ref max_int in\n",
    "        for i=0 to Array.length t -1 do\n",
    "            if t.(i) < !m then m := t.(i)\n",
    "        done; !m;;"
   ]
  },
  {
   "cell_type": "code",
   "execution_count": 12,
   "id": "1eb9d632-1c18-4723-91dd-7cd4119aa0eb",
   "metadata": {},
   "outputs": [
    {
     "data": {
      "text/plain": [
       "val somme_l : int list -> int = <fun>\n"
      ]
     },
     "execution_count": 12,
     "metadata": {},
     "output_type": "execute_result"
    }
   ],
   "source": [
    "let rec somme_l l = match l with\n",
    "    | [] -> 0\n",
    "    | e::q -> e + somme_l q;;"
   ]
  },
  {
   "cell_type": "code",
   "execution_count": 13,
   "id": "f3f47942-7e3e-4c13-8f49-fa2cf5ba77fd",
   "metadata": {},
   "outputs": [
    {
     "data": {
      "text/plain": [
       "val somme_t : int array -> int = <fun>\n"
      ]
     },
     "execution_count": 13,
     "metadata": {},
     "output_type": "execute_result"
    }
   ],
   "source": [
    "let somme_t t = \n",
    "    let s = ref 0 in\n",
    "    for i=0 to Array.length t -1 do\n",
    "        s := !s + t.(i)\n",
    "    done; !s;;"
   ]
  },
  {
   "cell_type": "code",
   "execution_count": 60,
   "id": "8be1ba86-432b-46df-a693-1458976999de",
   "metadata": {},
   "outputs": [
    {
     "data": {
      "text/plain": [
       "val exp_rapide : int -> int -> int = <fun>\n"
      ]
     },
     "execution_count": 60,
     "metadata": {},
     "output_type": "execute_result"
    }
   ],
   "source": [
    "let rec exp_rapide a n =\n",
    "    if n=0 then 1\n",
    "    else let b = exp_rapide a (n/2) in\n",
    "    if n mod 2 = 0 then b*b\n",
    "    else a*b*b;;"
   ]
  },
  {
   "cell_type": "code",
   "execution_count": 55,
   "id": "471297a1-f14f-484c-9be4-b2bab5ed71d3",
   "metadata": {},
   "outputs": [
    {
     "data": {
      "text/plain": [
       "val dicho : 'a -> 'a array -> bool = <fun>\n"
      ]
     },
     "execution_count": 55,
     "metadata": {},
     "output_type": "execute_result"
    }
   ],
   "source": [
    "let dicho e t =\n",
    "    let rec aux i j =\n",
    "        if i > j then false\n",
    "        else let m = (i+j)/2 in\n",
    "            if t.(m) = e then true\n",
    "            else if t.(m) < e then aux (m+1) j\n",
    "            else aux i (m-1); in\n",
    "    aux 0 (Array.length t -1);;"
   ]
  },
  {
   "cell_type": "code",
   "execution_count": 16,
   "id": "e9c559e1-f99d-4a7d-9dfd-ddd4d73e4f49",
   "metadata": {},
   "outputs": [
    {
     "data": {
      "text/plain": [
       "val split : 'a list -> 'a list * 'a list = <fun>\n"
      ]
     },
     "execution_count": 16,
     "metadata": {},
     "output_type": "execute_result"
    }
   ],
   "source": [
    "let rec split l = match l with\n",
    "    | [] -> [], []\n",
    "    | [e] -> [e], []\n",
    "    | e1::e2::q -> let q1, q2 = split q in\n",
    "                    e1::q1, e2::q2;;"
   ]
  },
  {
   "cell_type": "code",
   "execution_count": 17,
   "id": "00a99da8-89ba-4dfa-a1c6-059f2f04d74d",
   "metadata": {},
   "outputs": [
    {
     "data": {
      "text/plain": [
       "val fusion : 'a list -> 'a list -> 'a list = <fun>\n"
      ]
     },
     "execution_count": 17,
     "metadata": {},
     "output_type": "execute_result"
    }
   ],
   "source": [
    "let rec fusion l1 l2 = match l1, l2 with\n",
    "    | [], _ -> l2\n",
    "    | _, [] -> l1\n",
    "    | e1::q1, e2::q2 when e1 < e2 -> e1::fusion q1 l2\n",
    "    | e1::q1, e2::q2 -> e2::fusion l1 q2;;"
   ]
  },
  {
   "cell_type": "code",
   "execution_count": 18,
   "id": "820ff790-fc69-4144-ba63-0c0f5081c57e",
   "metadata": {},
   "outputs": [
    {
     "data": {
      "text/plain": [
       "val tri : 'a list -> 'a list = <fun>\n"
      ]
     },
     "execution_count": 18,
     "metadata": {},
     "output_type": "execute_result"
    }
   ],
   "source": [
    "let rec tri l = match l with\n",
    "    | [] -> []\n",
    "    | [e] -> [e]\n",
    "    | l -> let l1, l2 = split l in\n",
    "                fusion (tri l1) (tri l2);;"
   ]
  },
  {
   "cell_type": "code",
   "execution_count": 21,
   "id": "f0b6fc28-6a1c-4c1f-92fa-928f7c20ebf3",
   "metadata": {},
   "outputs": [
    {
     "data": {
      "text/plain": [
       "val a : int ref = {contents = 2}\n",
       "val b : int ref = {contents = 3}\n"
      ]
     },
     "execution_count": 21,
     "metadata": {},
     "output_type": "execute_result"
    },
    {
     "data": {
      "text/plain": [
       "- : int ref * int ref = ({contents = 3}, {contents = 2})\n"
      ]
     },
     "execution_count": 21,
     "metadata": {},
     "output_type": "execute_result"
    }
   ],
   "source": [
    "let a, b = ref 2, ref 3;;\n",
    "swap a b; \n",
    "a, b;;"
   ]
  },
  {
   "cell_type": "code",
   "execution_count": 26,
   "id": "aabfb2a7-0880-4eca-a337-ba356f4ed560",
   "metadata": {},
   "outputs": [
    {
     "data": {
      "text/plain": [
       "val l : int list = [1; 5; 3; 7; 4; 5]\n"
      ]
     },
     "execution_count": 26,
     "metadata": {},
     "output_type": "execute_result"
    },
    {
     "data": {
      "text/plain": [
       "val t : int array = [|9; 4; 5; 3; 6; 0|]\n"
      ]
     },
     "execution_count": 26,
     "metadata": {},
     "output_type": "execute_result"
    },
    {
     "data": {
      "text/plain": [
       "val l2 : int list = [1; 6; 4; 5; 3]\n"
      ]
     },
     "execution_count": 26,
     "metadata": {},
     "output_type": "execute_result"
    }
   ],
   "source": [
    "let l = [1;5;3;7;4;5];;\n",
    "let t = [|9;4;5;3;6;0|];;\n",
    "let l2 = [1;6;4;5;3];;"
   ]
  },
  {
   "cell_type": "code",
   "execution_count": 27,
   "id": "93264281-b247-4046-8c44-8ab5a7940926",
   "metadata": {},
   "outputs": [
    {
     "data": {
      "text/plain": [
       "- : int = 6\n"
      ]
     },
     "execution_count": 27,
     "metadata": {},
     "output_type": "execute_result"
    }
   ],
   "source": [
    "taille l;;"
   ]
  },
  {
   "cell_type": "code",
   "execution_count": 28,
   "id": "8cb64f8c-7e12-4372-8816-d02b3f0149b1",
   "metadata": {},
   "outputs": [
    {
     "data": {
      "text/plain": [
       "- : bool = false\n"
      ]
     },
     "execution_count": 28,
     "metadata": {},
     "output_type": "execute_result"
    },
    {
     "data": {
      "text/plain": [
       "- : bool = false\n"
      ]
     },
     "execution_count": 28,
     "metadata": {},
     "output_type": "execute_result"
    }
   ],
   "source": [
    "lmem 0 l;;\n",
    "tmem 1 t;;"
   ]
  },
  {
   "cell_type": "code",
   "execution_count": 29,
   "id": "238f058b-c459-4705-bc80-cdb2d5fdabcf",
   "metadata": {},
   "outputs": [
    {
     "data": {
      "text/plain": [
       "- : int list = [1; 5; 3; 7; 4; 5; 1; 6; 4; 5; 3]\n"
      ]
     },
     "execution_count": 29,
     "metadata": {},
     "output_type": "execute_result"
    }
   ],
   "source": [
    "merge l l2;;"
   ]
  },
  {
   "cell_type": "code",
   "execution_count": 37,
   "id": "69d7b5be-14f9-4c77-9967-1055e68ce27d",
   "metadata": {},
   "outputs": [
    {
     "data": {
      "text/plain": [
       "- : int list = [5; 4; 7; 3; 5; 1]\n"
      ]
     },
     "execution_count": 37,
     "metadata": {},
     "output_type": "execute_result"
    }
   ],
   "source": [
    "rev l [];;"
   ]
  },
  {
   "cell_type": "code",
   "execution_count": 40,
   "id": "27af2ca1-7300-476a-8cab-c5800a66f07c",
   "metadata": {},
   "outputs": [
    {
     "data": {
      "text/plain": [
       "- : int = 1\n"
      ]
     },
     "execution_count": 40,
     "metadata": {},
     "output_type": "execute_result"
    },
    {
     "data": {
      "text/plain": [
       "- : int = 0\n"
      ]
     },
     "execution_count": 40,
     "metadata": {},
     "output_type": "execute_result"
    }
   ],
   "source": [
    "min_l l;;\n",
    "min_t t;;"
   ]
  },
  {
   "cell_type": "code",
   "execution_count": 41,
   "id": "f7bc1e7d-2138-43f1-8be7-b20f73ad4fee",
   "metadata": {},
   "outputs": [
    {
     "data": {
      "text/plain": [
       "- : int = 25\n"
      ]
     },
     "execution_count": 41,
     "metadata": {},
     "output_type": "execute_result"
    },
    {
     "data": {
      "text/plain": [
       "- : int = 27\n"
      ]
     },
     "execution_count": 41,
     "metadata": {},
     "output_type": "execute_result"
    }
   ],
   "source": [
    "somme_l l;;\n",
    "somme_t t;;"
   ]
  },
  {
   "cell_type": "code",
   "execution_count": 48,
   "id": "d33a65a4-25fd-470d-b519-59ac951563fb",
   "metadata": {},
   "outputs": [
    {
     "data": {
      "text/plain": [
       "- : int = 2187\n"
      ]
     },
     "execution_count": 48,
     "metadata": {},
     "output_type": "execute_result"
    }
   ],
   "source": [
    "exp_rapide 3 3;;"
   ]
  },
  {
   "cell_type": "code",
   "execution_count": 52,
   "id": "1015b252-0d35-4383-86d4-5275702fa882",
   "metadata": {},
   "outputs": [
    {
     "data": {
      "text/plain": [
       "val sorted_t : int array = [|1; 4; 6; 7; 8; 12|]\n"
      ]
     },
     "execution_count": 52,
     "metadata": {},
     "output_type": "execute_result"
    }
   ],
   "source": [
    "let sorted_t = [|1;4;6;7;8;12|];;"
   ]
  },
  {
   "cell_type": "code",
   "execution_count": 57,
   "id": "61a5b07c-fee9-48ba-9074-9f1a0b9ddf07",
   "metadata": {},
   "outputs": [
    {
     "data": {
      "text/plain": [
       "- : bool = false\n"
      ]
     },
     "execution_count": 57,
     "metadata": {},
     "output_type": "execute_result"
    }
   ],
   "source": [
    "dicho 3 sorted_t;;"
   ]
  },
  {
   "cell_type": "code",
   "execution_count": 58,
   "id": "5a9f31e9-cb88-4f70-a56f-0fee2bcfeac4",
   "metadata": {},
   "outputs": [
    {
     "data": {
      "text/plain": [
       "- : int list = [1; 3; 4; 5; 5; 7]\n"
      ]
     },
     "execution_count": 58,
     "metadata": {},
     "output_type": "execute_result"
    }
   ],
   "source": [
    "tri l;;"
   ]
  },
  {
   "cell_type": "code",
   "execution_count": 59,
   "id": "491134b7-68fc-4203-84de-d9064df3c957",
   "metadata": {},
   "outputs": [
    {
     "data": {
      "text/plain": [
       "- : int list = [1; 3; 4; 5; 6]\n"
      ]
     },
     "execution_count": 59,
     "metadata": {},
     "output_type": "execute_result"
    }
   ],
   "source": [
    "tri l2;;"
   ]
  }
 ],
 "metadata": {
  "kernelspec": {
   "display_name": "OCaml default",
   "language": "OCaml",
   "name": "ocaml-jupyter"
  },
  "language_info": {
   "codemirror_mode": "text/x-ocaml",
   "file_extension": ".ml",
   "mimetype": "text/x-ocaml",
   "name": "OCaml",
   "nbconverter_exporter": null,
   "pygments_lexer": "OCaml",
   "version": "4.08.1"
  }
 },
 "nbformat": 4,
 "nbformat_minor": 5
}
