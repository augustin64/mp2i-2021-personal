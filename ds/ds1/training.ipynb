{
 "cells": [
  {
   "cell_type": "code",
   "execution_count": 1,
   "id": "ceb315d0-14a4-4787-9873-973ae783e7c5",
   "metadata": {},
   "outputs": [
    {
     "data": {
      "text/plain": [
       "val swap : 'a ref -> 'a ref -> unit = <fun>\n"
      ]
     },
     "execution_count": 1,
     "metadata": {},
     "output_type": "execute_result"
    }
   ],
   "source": [
    "let swap a b =\n",
    "    let c = !b in\n",
    "    b := !a;\n",
    "    a := c;;"
   ]
  },
  {
   "cell_type": "code",
   "execution_count": 2,
   "id": "3d4d6a97-e544-4933-b69e-cde948f74e1a",
   "metadata": {},
   "outputs": [
    {
     "data": {
      "text/plain": [
       "- : int ref * int ref = ({contents = 2}, {contents = 1})\n"
      ]
     },
     "execution_count": 2,
     "metadata": {},
     "output_type": "execute_result"
    }
   ],
   "source": [
    "let a, b = ref 1, ref 2 in\n",
    "swap a b;\n",
    "a, b"
   ]
  },
  {
   "cell_type": "code",
   "execution_count": 3,
   "id": "486f976e-13d1-4329-80ed-ef6e1e6162a8",
   "metadata": {},
   "outputs": [
    {
     "data": {
      "text/plain": [
       "val taille : 'a list -> int = <fun>\n"
      ]
     },
     "execution_count": 3,
     "metadata": {},
     "output_type": "execute_result"
    }
   ],
   "source": [
    "let rec taille l = match l with\n",
    "    | [] -> 0\n",
    "    | e::q -> 1 + taille q;;"
   ]
  },
  {
   "cell_type": "code",
   "execution_count": 4,
   "id": "54acb4bd-31ec-48f0-aadb-3be847b35be7",
   "metadata": {},
   "outputs": [
    {
     "data": {
      "text/plain": [
       "- : int = 4\n"
      ]
     },
     "execution_count": 4,
     "metadata": {},
     "output_type": "execute_result"
    }
   ],
   "source": [
    "taille [1;4;5;3];;"
   ]
  },
  {
   "cell_type": "code",
   "execution_count": 5,
   "id": "ecbcde67-8bab-4ac0-af08-c66e0f3fd2c3",
   "metadata": {},
   "outputs": [
    {
     "data": {
      "text/plain": [
       "val member : 'a -> 'a list -> bool = <fun>\n"
      ]
     },
     "execution_count": 5,
     "metadata": {},
     "output_type": "execute_result"
    }
   ],
   "source": [
    "let rec member a l = match l with\n",
    "    | [] -> false\n",
    "    | e::q -> a = e || member a q;;"
   ]
  },
  {
   "cell_type": "code",
   "execution_count": 6,
   "id": "faf3c0ac-af6a-43d5-a3df-2f34822cc70d",
   "metadata": {},
   "outputs": [
    {
     "data": {
      "text/plain": [
       "- : bool = false\n"
      ]
     },
     "execution_count": 6,
     "metadata": {},
     "output_type": "execute_result"
    }
   ],
   "source": [
    "member 1 [3;4;2;5];;"
   ]
  },
  {
   "cell_type": "code",
   "execution_count": 7,
   "id": "0bdd53da-83d7-40a8-ac4b-cb36eeba6950",
   "metadata": {},
   "outputs": [
    {
     "data": {
      "text/plain": [
       "val amember : 'a -> 'a array -> bool = <fun>\n"
      ]
     },
     "execution_count": 7,
     "metadata": {},
     "output_type": "execute_result"
    }
   ],
   "source": [
    "let amember a t = \n",
    "    let verif = ref false in\n",
    "    for i=0 to Array.length t -1 do\n",
    "        verif := !verif || t.(i)=a\n",
    "    done;\n",
    "    !verif;;"
   ]
  },
  {
   "cell_type": "code",
   "execution_count": 8,
   "id": "d027e01b-1cbe-448b-8653-7a1bb0f0685e",
   "metadata": {},
   "outputs": [
    {
     "data": {
      "text/plain": [
       "- : bool = false\n"
      ]
     },
     "execution_count": 8,
     "metadata": {},
     "output_type": "execute_result"
    }
   ],
   "source": [
    "amember 1 [|3;4;6|];;"
   ]
  },
  {
   "cell_type": "code",
   "execution_count": 47,
   "id": "422581b4-afba-42bf-b224-aaa33651b65f",
   "metadata": {},
   "outputs": [
    {
     "data": {
      "text/plain": [
       "val merge : 'a list -> 'a list -> 'a list = <fun>\n"
      ]
     },
     "execution_count": 47,
     "metadata": {},
     "output_type": "execute_result"
    }
   ],
   "source": [
    "let rec merge l1 l2 = match l1 with\n",
    "    | [] -> l2\n",
    "    | e::q -> e::(merge q l2);;"
   ]
  },
  {
   "cell_type": "code",
   "execution_count": 48,
   "id": "6c945a97-a483-4c64-bc0f-74d55eaa3a55",
   "metadata": {},
   "outputs": [
    {
     "data": {
      "text/plain": [
       "- : int list = [1; 4; 5; 3; 3; 7; 12]\n"
      ]
     },
     "execution_count": 48,
     "metadata": {},
     "output_type": "execute_result"
    },
    {
     "ename": "interrupt",
     "evalue": "intterupt",
     "output_type": "error",
     "traceback": [
      "\u001b[31mException: Sys.Break.\u001b[0m"
     ]
    }
   ],
   "source": [
    "merge [1;4;5;3] [3;7;12];;"
   ]
  },
  {
   "cell_type": "code",
   "execution_count": 11,
   "id": "6d2645cb-33c4-46b5-bb8d-0f6d4fdda635",
   "metadata": {},
   "outputs": [
    {
     "data": {
      "text/plain": [
       "val rev : 'a list -> 'a list = <fun>\n"
      ]
     },
     "execution_count": 11,
     "metadata": {},
     "output_type": "execute_result"
    },
    {
     "data": {
      "text/plain": [
       "- : int list = [6; 5; 3; 1]\n"
      ]
     },
     "execution_count": 11,
     "metadata": {},
     "output_type": "execute_result"
    }
   ],
   "source": [
    "let rec rev l = match l with\n",
    "    | [] -> []\n",
    "    | e::q -> merge (rev q) [e];;\n",
    "    \n",
    "rev [1;3;5;6];;"
   ]
  },
  {
   "cell_type": "code",
   "execution_count": 12,
   "id": "25c730b0-73fd-4ec8-90e2-90381c87a8e8",
   "metadata": {},
   "outputs": [
    {
     "data": {
      "text/plain": [
       "val tmax : int array -> int ref = <fun>\n"
      ]
     },
     "execution_count": 12,
     "metadata": {},
     "output_type": "execute_result"
    },
    {
     "data": {
      "text/plain": [
       "val tab : int array = [|1; 5; 3; 7; 3|]\n"
      ]
     },
     "execution_count": 12,
     "metadata": {},
     "output_type": "execute_result"
    },
    {
     "data": {
      "text/plain": [
       "- : int ref = {contents = 7}\n"
      ]
     },
     "execution_count": 12,
     "metadata": {},
     "output_type": "execute_result"
    }
   ],
   "source": [
    "(*let tmaximum t =\n",
    "    let m = ref min_int in\n",
    "    for i=0 to Array.length t -1 do\n",
    "        if m < t.(i) then \n",
    "            m := t.(i);\n",
    "    done; m;;*)\n",
    "  \n",
    "let tmax t =\n",
    "    let m = ref min_int in\n",
    "    for i=0 to (Array.length t) -1 do\n",
    "        if !m < t.(i) then\n",
    "            m := t.(i);\n",
    "    done;\n",
    "    m;;\n",
    "  \n",
    "let tab = [|1;5;3;7;3|];;\n",
    "tmax tab;;"
   ]
  },
  {
   "cell_type": "code",
   "execution_count": 13,
   "id": "032ca866-114d-4a0f-bc71-816f692ecb71",
   "metadata": {},
   "outputs": [
    {
     "data": {
      "text/plain": [
       "val lmaximum : int list -> int = <fun>\n"
      ]
     },
     "execution_count": 13,
     "metadata": {},
     "output_type": "execute_result"
    },
    {
     "data": {
      "text/plain": [
       "- : int = 15\n"
      ]
     },
     "execution_count": 13,
     "metadata": {},
     "output_type": "execute_result"
    }
   ],
   "source": [
    "let rec lmaximum l = match l with\n",
    "    | [] -> min_int\n",
    "    | e::q -> let q_m = lmaximum q in\n",
    "                if e > q_m then e else q_m;;\n",
    "                \n",
    "lmaximum [1;4;5;2;5;15;5];;"
   ]
  },
  {
   "cell_type": "code",
   "execution_count": 14,
   "id": "e15ef3d3-2bde-4ddb-972d-13c2cc973dd1",
   "metadata": {},
   "outputs": [
    {
     "data": {
      "text/plain": [
       "val somme : int list -> int = <fun>\n"
      ]
     },
     "execution_count": 14,
     "metadata": {},
     "output_type": "execute_result"
    },
    {
     "data": {
      "text/plain": [
       "- : int = 18\n"
      ]
     },
     "execution_count": 14,
     "metadata": {},
     "output_type": "execute_result"
    }
   ],
   "source": [
    "let rec somme l = match l with\n",
    "    | [] -> 0\n",
    "    | e::q -> e + somme q;;\n",
    "    \n",
    "somme [1;5;4;3;5];;"
   ]
  },
  {
   "cell_type": "code",
   "execution_count": 15,
   "id": "aa655cc9-cbb8-4af0-a287-b03bc7c2011b",
   "metadata": {},
   "outputs": [
    {
     "data": {
      "text/plain": [
       "val somme2 : int array -> int = <fun>\n"
      ]
     },
     "execution_count": 15,
     "metadata": {},
     "output_type": "execute_result"
    },
    {
     "data": {
      "text/plain": [
       "- : int = 19\n"
      ]
     },
     "execution_count": 15,
     "metadata": {},
     "output_type": "execute_result"
    }
   ],
   "source": [
    "let somme2 t =\n",
    "    let acc = ref 0 in\n",
    "    for i=0 to Array.length t -1 do\n",
    "        acc := !acc + t.(i)\n",
    "    done;\n",
    "    !acc;;\n",
    "    \n",
    "somme2 tab;;"
   ]
  },
  {
   "cell_type": "code",
   "execution_count": 16,
   "id": "da05506c-0966-4b63-87d9-344289c9566f",
   "metadata": {},
   "outputs": [
    {
     "data": {
      "text/plain": [
       "val exp_rapide : int -> int -> int = <fun>\n"
      ]
     },
     "execution_count": 16,
     "metadata": {},
     "output_type": "execute_result"
    },
    {
     "data": {
      "text/plain": [
       "- : int = 125\n"
      ]
     },
     "execution_count": 16,
     "metadata": {},
     "output_type": "execute_result"
    }
   ],
   "source": [
    "let rec exp_rapide a n =\n",
    "    if n = 0 then 1\n",
    "    else let b = exp_rapide a (n/2) in\n",
    "    if n mod 2 = 0 then b*b\n",
    "    else b*b*a;;\n",
    "                \n",
    "exp_rapide 5 3;;"
   ]
  },
  {
   "cell_type": "code",
   "execution_count": 18,
   "id": "6e07deeb-cc0e-49e4-b634-2c977e4f43e7",
   "metadata": {
    "tags": []
   },
   "outputs": [
    {
     "data": {
      "text/plain": [
       "val dicho : 'a array -> 'a -> bool = <fun>\n"
      ]
     },
     "execution_count": 18,
     "metadata": {},
     "output_type": "execute_result"
    },
    {
     "data": {
      "text/plain": [
       "- : bool = false\n"
      ]
     },
     "execution_count": 18,
     "metadata": {},
     "output_type": "execute_result"
    }
   ],
   "source": [
    "let dicho t e =\n",
    "    let rec aux i j =\n",
    "        if i > j then false\n",
    "        else let m = (i+j)/2 in\n",
    "            if e = t.(m) then true \n",
    "            else if e > t.(m) then aux (m+1) j\n",
    "            else aux i (m-1); in\n",
    "    aux 0 (Array.length t -1);;\n",
    "    \n",
    "dicho [|1;3;6;7;10|] 5;;"
   ]
  },
  {
   "cell_type": "code",
   "execution_count": 29,
   "id": "b320acdf-a7e4-4174-ad34-a768a64d1e81",
   "metadata": {},
   "outputs": [
    {
     "data": {
      "text/plain": [
       "val split : 'a list -> 'a list * 'a list = <fun>\n"
      ]
     },
     "execution_count": 29,
     "metadata": {},
     "output_type": "execute_result"
    },
    {
     "data": {
      "text/plain": [
       "val l : int list = [1; 5; 3; 6; 6; 3; 4]\n"
      ]
     },
     "execution_count": 29,
     "metadata": {},
     "output_type": "execute_result"
    },
    {
     "data": {
      "text/plain": [
       "- : int list * int list = ([1; 3; 6; 4], [5; 6; 3])\n"
      ]
     },
     "execution_count": 29,
     "metadata": {},
     "output_type": "execute_result"
    }
   ],
   "source": [
    "let rec split l = match l with\n",
    "    | [] -> [], []\n",
    "    | [e] -> [e], []\n",
    "    | e1::e2::q -> let q1, q2 = split q in\n",
    "                    e1::q1, e2::q2;;\n",
    "        \n",
    "let l = [1;5;3;6;6;3;4];;\n",
    "split l;;"
   ]
  },
  {
   "cell_type": "code",
   "execution_count": 41,
   "id": "538057d8-399f-46f8-ae7b-3e95e6d8c7fa",
   "metadata": {},
   "outputs": [
    {
     "data": {
      "text/plain": [
       "val fusion : 'a list -> 'a list -> 'a list = <fun>\n"
      ]
     },
     "execution_count": 41,
     "metadata": {},
     "output_type": "execute_result"
    },
    {
     "data": {
      "text/plain": [
       "- : int list = [1; 3; 5; 6; 3; 6; 4]\n"
      ]
     },
     "execution_count": 41,
     "metadata": {},
     "output_type": "execute_result"
    }
   ],
   "source": [
    "let rec fusion l1 l2 = match l1, l2 with\n",
    "    | [], _ -> l2\n",
    "    | _, [] -> l1\n",
    "    | e1::q1, e2::q2 when e1 < e2 -> e1::fusion q1 l2\n",
    "    | e1::q1, e2::q2 -> e2::fusion l1 q2;;\n",
    "    \n",
    "let l1, l2 = split l in\n",
    "fusion l1 l2;;"
   ]
  },
  {
   "cell_type": "code",
   "execution_count": 42,
   "id": "ccceb13c-883a-4ad2-a107-2a5a6751cf6a",
   "metadata": {},
   "outputs": [
    {
     "data": {
      "text/plain": [
       "val tri : 'a list -> 'a list = <fun>\n"
      ]
     },
     "execution_count": 42,
     "metadata": {},
     "output_type": "execute_result"
    },
    {
     "data": {
      "text/plain": [
       "- : int list = [1; 3; 3; 4; 5; 6; 6]\n"
      ]
     },
     "execution_count": 42,
     "metadata": {},
     "output_type": "execute_result"
    }
   ],
   "source": [
    "let rec tri l = match l with\n",
    "    | [] -> []\n",
    "    | [e] -> [e]\n",
    "    | l -> let l1, l2 = split l in\n",
    "        fusion (tri l1) (tri l2);;\n",
    "        \n",
    "tri l;;"
   ]
  },
  {
   "cell_type": "markdown",
   "id": "8c874dc9-8c55-41f7-b958-1b1dda63018c",
   "metadata": {},
   "source": [
    "#### Points d'attention :\n",
    " - `!` refs\n",
    " - let != def, on n'est pas en, python\n",
    " - ne pas oublier !!`rec`\n",
    " - faire attention au type des éléments \n",
    " - faire attention aux arguments quand on appelle une fonction (particulièrement aux accumulateurs)\n",
    " - exp_rapide à revoir et comprendre\n",
    " - dichotomie à revoir\n",
    " - comparateurs à surveiller\n",
    " - vérifier qu'il n'y ait pas d'élément inutile dans la fonction (accumulateur par exemple)"
   ]
  },
  {
   "cell_type": "code",
   "execution_count": null,
   "id": "09a2344d-b1f1-49d5-8dcf-faaaaa27bded",
   "metadata": {},
   "outputs": [],
   "source": []
  }
 ],
 "metadata": {
  "kernelspec": {
   "display_name": "OCaml default",
   "language": "OCaml",
   "name": "ocaml-jupyter"
  },
  "language_info": {
   "codemirror_mode": "text/x-ocaml",
   "file_extension": ".ml",
   "mimetype": "text/x-ocaml",
   "name": "OCaml",
   "nbconverter_exporter": null,
   "pygments_lexer": "OCaml",
   "version": "4.08.1"
  }
 },
 "nbformat": 4,
 "nbformat_minor": 5
}
