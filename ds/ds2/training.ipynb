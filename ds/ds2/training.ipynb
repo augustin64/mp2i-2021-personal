{
 "cells": [
  {
   "cell_type": "markdown",
   "id": "6df933c6-1a1c-4da9-a728-ce9437712c24",
   "metadata": {},
   "source": [
    "- Échange de 2 références (`swap`).\n",
    "- Calculer la taille d'une liste.\n",
    "- Tester si un élément appartient à une liste, à un tableau.\n",
    "- Concaténer deux listes (réécrire `@`).\n",
    "- Inverser une liste (rev) avec un accumulateur.\n",
    "- Trouver le minimum/maximum d'un tableau/d'une liste.\n",
    "- Calculer la somme d'un tableau/d'une liste.\n",
    "- Exponentiation rapide pour calculer a puissance n en complexité O(log(n)) (avec démonstration de la complexité).\n",
    "- Recherche par dichotomie dans un tableau trié de taille n en complexité O(log(n)) (avec démonstration de la complexité).\n",
    "- Tri fusion d'une liste de taille n en complexité O(nlog(n)) (avec démonstration de la complexité)."
   ]
  },
  {
   "cell_type": "markdown",
   "id": "25563887-2c13-4daa-8e89-6f1361925400",
   "metadata": {},
   "source": [
    "+ 1 rec\n",
    "+ 1 erreur de parenthèses\n",
    "+ 1 dicho exclusion des valeurs déjà testées (m+1) et (m-1) au lieu de m"
   ]
  },
  {
   "cell_type": "code",
   "execution_count": 1,
   "id": "999392ed-2e7d-4780-bbbc-054f86c0be6b",
   "metadata": {},
   "outputs": [
    {
     "data": {
      "text/plain": [
       "val swap : 'a ref -> 'a ref -> unit = <fun>\n"
      ]
     },
     "execution_count": 1,
     "metadata": {},
     "output_type": "execute_result"
    }
   ],
   "source": [
    "let swap a b = \n",
    "    let tmp = !a in\n",
    "    a := !b;\n",
    "    b := tmp;;"
   ]
  },
  {
   "cell_type": "code",
   "execution_count": 3,
   "id": "918c15ad-ad6f-4599-8560-7fcc00cef480",
   "metadata": {},
   "outputs": [
    {
     "data": {
      "text/plain": [
       "val taille : 'a list -> int = <fun>\n"
      ]
     },
     "execution_count": 3,
     "metadata": {},
     "output_type": "execute_result"
    }
   ],
   "source": [
    "let rec taille l = match l with\n",
    "    | [] -> 0\n",
    "    | e::q -> 1 + taille q;;"
   ]
  },
  {
   "cell_type": "code",
   "execution_count": 4,
   "id": "20aa92bd-b608-4480-a32a-10da93693ffd",
   "metadata": {},
   "outputs": [
    {
     "data": {
      "text/plain": [
       "val mem_l : 'a -> 'a list -> bool = <fun>\n"
      ]
     },
     "execution_count": 4,
     "metadata": {},
     "output_type": "execute_result"
    }
   ],
   "source": [
    "let rec mem_l e l = match l with\n",
    "    | [] -> false\n",
    "    | e1::q -> e1=e || mem_l e q;;"
   ]
  },
  {
   "cell_type": "code",
   "execution_count": 5,
   "id": "d3aeab09-79cf-4ceb-810f-1c6f55c806a3",
   "metadata": {},
   "outputs": [
    {
     "data": {
      "text/plain": [
       "val mem_t : 'a -> 'a array -> bool = <fun>\n"
      ]
     },
     "execution_count": 5,
     "metadata": {},
     "output_type": "execute_result"
    }
   ],
   "source": [
    "let mem_t e t =\n",
    "    let verif = ref false in\n",
    "    for i=0 to Array.length t -1 do\n",
    "        verif := !verif || e=t.(i)\n",
    "    done;\n",
    "    !verif;;"
   ]
  },
  {
   "cell_type": "code",
   "execution_count": 6,
   "id": "73efd911-6b1d-4910-ac4c-c70402c87fcd",
   "metadata": {},
   "outputs": [
    {
     "data": {
      "text/plain": [
       "val concat : 'a list -> 'a list -> 'a list = <fun>\n"
      ]
     },
     "execution_count": 6,
     "metadata": {},
     "output_type": "execute_result"
    }
   ],
   "source": [
    "let rec concat l1 l2 = match l1 with\n",
    "    | [] -> l2\n",
    "    | e::q -> concat q (e::l2);;"
   ]
  },
  {
   "cell_type": "code",
   "execution_count": 8,
   "id": "53643243-4816-43f2-a7ef-930576e9407f",
   "metadata": {},
   "outputs": [
    {
     "data": {
      "text/plain": [
       "val rev : 'a list -> 'a list -> 'a list = <fun>\n"
      ]
     },
     "execution_count": 8,
     "metadata": {},
     "output_type": "execute_result"
    }
   ],
   "source": [
    "let rec rev l acc = match l with\n",
    "    | [] -> acc\n",
    "    | e::q -> rev q (e::acc);;"
   ]
  },
  {
   "cell_type": "code",
   "execution_count": 9,
   "id": "9c9b3637-e4af-41c1-b903-d06cb5371cfc",
   "metadata": {},
   "outputs": [
    {
     "data": {
      "text/plain": [
       "val min_l : int list -> int = <fun>\n"
      ]
     },
     "execution_count": 9,
     "metadata": {},
     "output_type": "execute_result"
    }
   ],
   "source": [
    "let rec min_l l = match l with\n",
    "    | [] -> max_int\n",
    "    | e::q -> let m = min_l q in\n",
    "                if m > e then e\n",
    "                else m;;"
   ]
  },
  {
   "cell_type": "code",
   "execution_count": 10,
   "id": "4ce5cd48-13bd-4331-8d6e-3daf32d86e67",
   "metadata": {},
   "outputs": [
    {
     "data": {
      "text/plain": [
       "val max_t : int array -> int = <fun>\n"
      ]
     },
     "execution_count": 10,
     "metadata": {},
     "output_type": "execute_result"
    }
   ],
   "source": [
    "let max_t t =\n",
    "    let m = ref min_int in\n",
    "    for i=0 to Array.length t -1 do\n",
    "        if !m < t.(i) then m := t.(i);\n",
    "    done;\n",
    "    !m;;"
   ]
  },
  {
   "cell_type": "code",
   "execution_count": 27,
   "id": "b8618cb9-27ee-4b29-91c7-2e71f8c18695",
   "metadata": {},
   "outputs": [
    {
     "data": {
      "text/plain": [
       "val exp_rapide : int -> int -> int = <fun>\n"
      ]
     },
     "execution_count": 27,
     "metadata": {},
     "output_type": "execute_result"
    }
   ],
   "source": [
    "let rec exp_rapide a n =\n",
    "    if n = 0 then 1\n",
    "    else\n",
    "        if n mod 2 = 0 then\n",
    "            let a_n = exp_rapide a (n/2) in a_n * a_n\n",
    "        else\n",
    "            let a_n = exp_rapide a (n/2) in a_n * a_n * a;;"
   ]
  },
  {
   "cell_type": "code",
   "execution_count": 12,
   "id": "797dd246-cf66-40c4-8180-705c84554347",
   "metadata": {},
   "outputs": [
    {
     "data": {
      "text/plain": [
       "val a : int ref = {contents = 3}\n"
      ]
     },
     "execution_count": 12,
     "metadata": {},
     "output_type": "execute_result"
    },
    {
     "data": {
      "text/plain": [
       "val b : int ref = {contents = 4}\n"
      ]
     },
     "execution_count": 12,
     "metadata": {},
     "output_type": "execute_result"
    },
    {
     "data": {
      "text/plain": [
       "- : unit = ()\n"
      ]
     },
     "execution_count": 12,
     "metadata": {},
     "output_type": "execute_result"
    },
    {
     "data": {
      "text/plain": [
       "- : int ref * int ref = ({contents = 4}, {contents = 3})\n"
      ]
     },
     "execution_count": 12,
     "metadata": {},
     "output_type": "execute_result"
    }
   ],
   "source": [
    "let a = ref 3;;\n",
    "let b = ref 4;;\n",
    "swap a b;;\n",
    "a, b;;"
   ]
  },
  {
   "cell_type": "code",
   "execution_count": 14,
   "id": "d5ef722b-981e-4f28-b459-d8f9c029526b",
   "metadata": {},
   "outputs": [
    {
     "data": {
      "text/plain": [
       "- : int = 6\n"
      ]
     },
     "execution_count": 14,
     "metadata": {},
     "output_type": "execute_result"
    }
   ],
   "source": [
    "taille [4;6;2;5;1;8];;"
   ]
  },
  {
   "cell_type": "code",
   "execution_count": 16,
   "id": "b75c2a90-4a63-4f1a-83d4-babb045941f9",
   "metadata": {},
   "outputs": [
    {
     "data": {
      "text/plain": [
       "- : bool = false\n"
      ]
     },
     "execution_count": 16,
     "metadata": {},
     "output_type": "execute_result"
    }
   ],
   "source": [
    "mem_l 4 [1;5;3];;"
   ]
  },
  {
   "cell_type": "code",
   "execution_count": 20,
   "id": "f510853a-4dfe-4342-99b6-d3b6f40e1005",
   "metadata": {},
   "outputs": [
    {
     "data": {
      "text/plain": [
       "- : bool = false\n"
      ]
     },
     "execution_count": 20,
     "metadata": {},
     "output_type": "execute_result"
    }
   ],
   "source": [
    "mem_t 3 [|2;4;1|];;"
   ]
  },
  {
   "cell_type": "code",
   "execution_count": 19,
   "id": "67431de1-775e-43a4-b4b6-6e89ed200dee",
   "metadata": {},
   "outputs": [
    {
     "data": {
      "text/plain": [
       "- : int list = [1; 5; 2; 6; 2; 6; 0]\n"
      ]
     },
     "execution_count": 19,
     "metadata": {},
     "output_type": "execute_result"
    }
   ],
   "source": [
    "concat [2;5;1] [6;2;6;0];;"
   ]
  },
  {
   "cell_type": "code",
   "execution_count": 21,
   "id": "9f3b270f-0152-46fc-91ee-674fff8aca80",
   "metadata": {},
   "outputs": [
    {
     "data": {
      "text/plain": [
       "- : int list = [7; 5; 3; 1]\n"
      ]
     },
     "execution_count": 21,
     "metadata": {},
     "output_type": "execute_result"
    }
   ],
   "source": [
    "rev [1;3;5;7] [];;"
   ]
  },
  {
   "cell_type": "code",
   "execution_count": 22,
   "id": "802c3cf8-beaf-4873-84c7-ea1e8b858ce1",
   "metadata": {},
   "outputs": [
    {
     "data": {
      "text/plain": [
       "- : int = 3\n"
      ]
     },
     "execution_count": 22,
     "metadata": {},
     "output_type": "execute_result"
    }
   ],
   "source": [
    "min_l [5;3;8];;"
   ]
  },
  {
   "cell_type": "code",
   "execution_count": 23,
   "id": "46b03dd8-d7ea-44e1-b996-eea4b0a03c27",
   "metadata": {},
   "outputs": [
    {
     "data": {
      "text/plain": [
       "- : int = 7\n"
      ]
     },
     "execution_count": 23,
     "metadata": {},
     "output_type": "execute_result"
    }
   ],
   "source": [
    "max_t [|2;5;1;7;3|];;"
   ]
  },
  {
   "cell_type": "code",
   "execution_count": 29,
   "id": "13f25936-490c-4f71-b66c-81d563670bf9",
   "metadata": {},
   "outputs": [
    {
     "data": {
      "text/plain": [
       "- : int = 8\n"
      ]
     },
     "execution_count": 29,
     "metadata": {},
     "output_type": "execute_result"
    }
   ],
   "source": [
    "exp_rapide 2 3;;"
   ]
  },
  {
   "cell_type": "code",
   "execution_count": 45,
   "id": "ee02cb9b-5875-48f4-9fec-44ad09e7a7ba",
   "metadata": {
    "tags": []
   },
   "outputs": [
    {
     "data": {
      "text/plain": [
       "val dicho : 'a -> 'a array -> bool = <fun>\n"
      ]
     },
     "execution_count": 45,
     "metadata": {},
     "output_type": "execute_result"
    }
   ],
   "source": [
    "let dicho e t = \n",
    "    let rec aux i j =\n",
    "        if i > j then false\n",
    "        else let m = (i+j)/2 in \n",
    "            if e = t.(m) then true\n",
    "            else if e > t.(m) then aux (m+1) j\n",
    "            else aux i (m-1) in\n",
    "    aux 0 (Array.length t -1);;"
   ]
  },
  {
   "cell_type": "code",
   "execution_count": 46,
   "id": "09b98a9a-28cd-4a09-b888-af05451cba77",
   "metadata": {},
   "outputs": [
    {
     "data": {
      "text/plain": [
       "- : bool = true\n"
      ]
     },
     "execution_count": 46,
     "metadata": {},
     "output_type": "execute_result"
    }
   ],
   "source": [
    "dicho 4 [|1;4;6;8;9|];;"
   ]
  },
  {
   "cell_type": "code",
   "execution_count": 47,
   "id": "d47cfaec-5657-48de-b47d-decd6b686265",
   "metadata": {},
   "outputs": [
    {
     "data": {
      "text/plain": [
       "val split : 'a list -> 'a list * 'a list = <fun>\n"
      ]
     },
     "execution_count": 47,
     "metadata": {},
     "output_type": "execute_result"
    }
   ],
   "source": [
    "let rec split l = match l with\n",
    "    | [] -> [], []\n",
    "    | [e] -> [e], []\n",
    "    | e1::e2::q -> let q1, q2 = split q in\n",
    "                    e1::q1, e2::q2;;"
   ]
  },
  {
   "cell_type": "code",
   "execution_count": 49,
   "id": "8800479c-d20d-4200-af8e-d0cf3cc4c81a",
   "metadata": {},
   "outputs": [
    {
     "data": {
      "text/plain": [
       "val fusion : 'a list -> 'a list -> 'a list = <fun>\n"
      ]
     },
     "execution_count": 49,
     "metadata": {},
     "output_type": "execute_result"
    }
   ],
   "source": [
    "let rec fusion l1 l2 = match l1, l2 with\n",
    "    | [], _ -> l2\n",
    "    | _, [] -> l1\n",
    "    | e1::q1, e2::q2 when e1 < e2 -> e1::(fusion q1 l2)\n",
    "    | e1::q1, e2::q2 -> e2::(fusion l1 q2);;"
   ]
  },
  {
   "cell_type": "code",
   "execution_count": 50,
   "id": "bda5aa38-c29b-410a-8d18-0bbb799307fc",
   "metadata": {},
   "outputs": [
    {
     "data": {
      "text/plain": [
       "val tri_fusion : 'a list -> 'a list = <fun>\n"
      ]
     },
     "execution_count": 50,
     "metadata": {},
     "output_type": "execute_result"
    }
   ],
   "source": [
    "let rec tri_fusion l = match l with\n",
    "    | [] -> []\n",
    "    | [e] -> [e]\n",
    "    | _ -> let l1, l2 = split l in\n",
    "            fusion (tri_fusion l1) (tri_fusion l2);;"
   ]
  },
  {
   "cell_type": "code",
   "execution_count": 51,
   "id": "95e7dde4-6365-4764-a303-680d1c7319dd",
   "metadata": {},
   "outputs": [
    {
     "data": {
      "text/plain": [
       "- : int list = [0; 1; 2; 2; 5; 8]\n"
      ]
     },
     "execution_count": 51,
     "metadata": {},
     "output_type": "execute_result"
    }
   ],
   "source": [
    "tri_fusion [1;5;2;8;2;0];;"
   ]
  },
  {
   "cell_type": "code",
   "execution_count": null,
   "id": "053add74-d77a-4e77-b96d-4874101b9544",
   "metadata": {},
   "outputs": [],
   "source": []
  }
 ],
 "metadata": {
  "kernelspec": {
   "display_name": "OCaml default",
   "language": "OCaml",
   "name": "ocaml-jupyter"
  },
  "language_info": {
   "codemirror_mode": "text/x-ocaml",
   "file_extension": ".ml",
   "mimetype": "text/x-ocaml",
   "name": "OCaml",
   "nbconverter_exporter": null,
   "pygments_lexer": "OCaml",
   "version": "4.08.1"
  }
 },
 "nbformat": 4,
 "nbformat_minor": 5
}
