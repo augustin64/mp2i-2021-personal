{
 "cells": [
  {
   "cell_type": "markdown",
   "id": "96c85e2c-d2a0-4e16-bdf7-94e1a2741664",
   "metadata": {
    "tags": []
   },
   "source": [
    "# <center><a href='https://mybinder.org/v2/gh/fortierq/binder-mp2i/main?urlpath=git-pull%3Frepo%3Dhttps%253A%252F%252Fgithub.com%252Faugustin64%252Fmp2i-2021%26urlpath%3Dlab%252Ftree%252Fmp2i-2021%252Fpersonnal%252FTP%252Ftp7.ipynb%26branch%3Dmain'>TP 7 : Exercices <img src=https://mybinder.org/badge.svg></a></center>"
   ]
  },
  {
   "cell_type": "markdown",
   "id": "dfb1a631-5031-48b7-acf8-0cab707baaf0",
   "metadata": {},
   "source": [
    "## Exercice 1 : $\\mathbb{Z}[\\sqrt{5}]$"
   ]
  },
  {
   "cell_type": "markdown",
   "id": "760c8504-d77c-4a73-ad26-d99f486f70fe",
   "metadata": {},
   "source": [
    "1. Implémenter l'exponentiation rapide\n",
    "2. Soit $E$ un ensemble muni d'une multiplication lci.  \n",
    "Implémenter `expo_rapide_generale lci x n` qui calcule l'exponentiation rapide dans $E$, avec lci : 'a -> 'a -> 'a\n",
    "3. On définit $\\mathbb{Z}[\\sqrt{5}] = \\{a+b\\sqrt{5}, (a, b)\\in \\mathbb{Z}\\}$.  \n",
    "Définir un type pour $\\mathbb{Z}[\\sqrt{5}]$\n",
    "4. Implémenter la multiplication sur $\\mathbb{Z}[\\sqrt{5}]$\n",
    "5. On rappelle que le $n^{eme}$ nombre de Fibonacci $F_n$ peut se calculer de la manière suivante : $$F_n = \\frac{1}{\\sqrt{5}}\\left( \\left( \\frac{1+\\sqrt{5}}{2} \\right)^n - \\left( \\frac{1-\\sqrt{5}}{2} \\right)^n \\right)$$\n",
    "6. Montrer que si $(1+\\sqrt{5})^n = a_n+b_n\\sqrt{5}$ avec $(a_n, b_n)\\in \\mathbb{Z}^2$, alors $(1-\\sqrt{5})^n = a_n-b_n\\sqrt{5}$ et en déduire un moyen simple de calculer $F_n$\n",
    "7. Calculer le $n^{eme}$ nombre de Fibonacci en effectuant un nombre de multiplications de l'ordre de $\\log_2(n)$\n",
    "8. Quel est le problème majeur de cette approche ?  \n",
    "(indice : que se passe t-il pour $n$ grand ?)"
   ]
  },
  {
   "cell_type": "code",
   "execution_count": 3,
   "id": "9d6ab097-cc8f-44c4-83fc-820fd82439ad",
   "metadata": {
    "tags": []
   },
   "outputs": [
    {
     "data": {
      "text/plain": [
       "val expo_rapide : int -> int -> int = <fun>\n"
      ]
     },
     "execution_count": 3,
     "metadata": {},
     "output_type": "execute_result"
    }
   ],
   "source": [
    "let rec expo_rapide a n =\n",
    "    if n=1 then a\n",
    "    else if n mod 2 = 0 then\n",
    "        let a_n = expo_rapide a (n/2) in\n",
    "        a_n * a_n\n",
    "    else\n",
    "        let a_n = expo_rapide a (n/2) in\n",
    "        a_n * a_n * a;;"
   ]
  },
  {
   "cell_type": "code",
   "execution_count": 4,
   "id": "2519bd1c-3a04-4b34-985d-b4f939de4117",
   "metadata": {},
   "outputs": [
    {
     "data": {
      "text/plain": [
       "- : int = 3125\n"
      ]
     },
     "execution_count": 4,
     "metadata": {},
     "output_type": "execute_result"
    }
   ],
   "source": [
    "expo_rapide 5 5;;"
   ]
  },
  {
   "cell_type": "code",
   "execution_count": 5,
   "id": "7f0e7ad3-bec1-4ac1-8094-bbaf63976554",
   "metadata": {},
   "outputs": [
    {
     "data": {
      "text/plain": [
       "val expo_rapide_generale : ('a -> 'a -> 'a) -> 'a -> int -> 'a = <fun>\n"
      ]
     },
     "execution_count": 5,
     "metadata": {},
     "output_type": "execute_result"
    }
   ],
   "source": [
    "let rec expo_rapide_generale lci x n =\n",
    "    if n=1 then x\n",
    "    else if n mod 2 = 0 then\n",
    "        let x_n = expo_rapide_generale lci x (n/2) in\n",
    "        lci x_n  x_n\n",
    "    else\n",
    "        let x_n = expo_rapide_generale lci x (n/2) in\n",
    "        lci (lci x_n  x_n) x;;"
   ]
  },
  {
   "cell_type": "code",
   "execution_count": 6,
   "id": "a490b0aa-e3f4-4be6-89c3-031b02787dba",
   "metadata": {},
   "outputs": [
    {
     "data": {
      "text/plain": [
       "type zsqrt5 = { a : float; b : float; }\n"
      ]
     },
     "execution_count": 6,
     "metadata": {},
     "output_type": "execute_result"
    }
   ],
   "source": [
    "type zsqrt5 = {a:float; b:float};;"
   ]
  },
  {
   "cell_type": "code",
   "execution_count": 7,
   "id": "58f67ece-f0b3-4010-aeeb-92acd4091908",
   "metadata": {},
   "outputs": [
    {
     "data": {
      "text/plain": [
       "val multZ : zsqrt5 -> zsqrt5 -> zsqrt5 = <fun>\n"
      ]
     },
     "execution_count": 7,
     "metadata": {},
     "output_type": "execute_result"
    }
   ],
   "source": [
    "let multZ zq1 zq2 = \n",
    "    let n_a = zq1.a *. zq2.a +. 5. *. zq1.b *. zq2.b in\n",
    "    let n_b = zq1.a *. zq2.a +. zq1.b *. zq2.b in\n",
    "    { a = n_a; b = n_b };;"
   ]
  },
  {
   "cell_type": "code",
   "execution_count": 10,
   "id": "390da643-91c4-435f-bf1d-b655cd61ee99",
   "metadata": {},
   "outputs": [
    {
     "ename": "error",
     "evalue": "compile_error",
     "output_type": "error",
     "traceback": [
      "File \"[10]\", line 2, characters 20-67:\n2 |     ( (int_of_float (expo_rapide_generale multZ {a = 1.; b = 1.} n)).b )/ (expo_rapide 2 (n-1))\n                        ^^^^^^^^^^^^^^^^^^^^^^^^^^^^^^^^^^^^^^^^^^^^^^^\nError: This expression has type zsqrt5 but an expression was expected of type\n         float\n"
     ]
    }
   ],
   "source": [
    "let fibo n =\n",
    "    ( (int_of_float (expo_rapide_generale multZ {a = 1.; b = 1.} n)).b )/ (expo_rapide 2 (n-1))"
   ]
  },
  {
   "cell_type": "code",
   "execution_count": 21,
   "id": "53efd785-7217-4107-81af-67feabddabee",
   "metadata": {},
   "outputs": [
    {
     "data": {
      "text/plain": [
       "- : zsqrt5 = {a = 3.5; b = 2.5}\n"
      ]
     },
     "execution_count": 21,
     "metadata": {},
     "output_type": "execute_result"
    }
   ],
   "source": [
    "neme_fibo  4;;"
   ]
  },
  {
   "cell_type": "markdown",
   "id": "e669d6d1-4b2d-4a94-88c3-ec1c7f43645e",
   "metadata": {},
   "source": [
    "## Exercice 2 : Nombres de Catalan"
   ]
  },
  {
   "cell_type": "markdown",
   "id": "1844d6b5-8308-42e0-b5a4-72ec4943529f",
   "metadata": {},
   "source": [
    "On définit les nombres de Catalan $(C_n)_{n\\in\\mathbb{N}}$ par $C_0 = 1$ et $\\displaystyle{C_n = \\sum_{i+j=n-1} C_iC_j}$.\n",
    "\n",
    "1. Ecrire une version itérative de la fonction `catalan` qui à tout entier $n$ associe le $n^{eme}$ nombre de Catalan $C_n$\n",
    "2. Prouver ce programme\n",
    "3. Donner une version récursive\n",
    "4. On peut montrer (mais on ne le demande pas) que $\\displaystyle{C_n = \\frac{2(2n-1)}{n+1}C_{n-1}}$ pour $n\\geq 1$  \n",
    "En utilisant cette remarque, donner une version itérative de la fonction Catalan\n",
    "5. Donner une version récursive"
   ]
  }
 ],
 "metadata": {
  "kernelspec": {
   "display_name": "OCaml default",
   "language": "OCaml",
   "name": "ocaml-jupyter"
  },
  "language_info": {
   "codemirror_mode": "text/x-ocaml",
   "file_extension": ".ml",
   "mimetype": "text/x-ocaml",
   "name": "OCaml",
   "nbconverter_exporter": null,
   "pygments_lexer": "OCaml",
   "version": "4.08.1"
  }
 },
 "nbformat": 4,
 "nbformat_minor": 5
}
