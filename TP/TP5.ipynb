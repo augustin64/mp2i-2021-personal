{
 "cells": [
  {
   "cell_type": "markdown",
   "metadata": {},
   "source": [
    "# <center><a href='https://mybinder.org/v2/gh/fortierq/binder-mp2i/main?urlpath=git-pull%3Frepo%3Dhttps%253A%252F%252Fgithub.com%252Faugustin64%252Fmp2i-2021%26urlpath%3Dlab%252Ftree%252Fmp2i-2021%252Fpersonnal%252FTP%252FTP5.ipynb%26branch%3Dmain'>TP 5 : Tableaux et Complexité <img src=https://mybinder.org/badge.svg></a></center>"
   ]
  },
  {
   "cell_type": "markdown",
   "metadata": {},
   "source": [
    "## Petites questions\n",
    "\n",
    "1. Écrire une fonction `somme` pour calculer la somme des éléments d'un tableau d'entiers.  \n",
    "2. Écrire une fonction `maximum` pour calculer le maximum d'un tableau d'entiers. On pourra utiliser la fonction `max` renvoyant le maximum de 2 nombres.  \n",
    "3. Écrire une fonction `list_of_array` transformant un tableau en liste.  \n",
    "4. Tester si un tableau est trié par ordre croissant."
   ]
  },
  {
   "cell_type": "code",
   "execution_count": 12,
   "metadata": {},
   "outputs": [
    {
     "data": {
      "text/plain": [
       "val somme : int array -> int = <fun>\n"
      ]
     },
     "execution_count": 12,
     "metadata": {},
     "output_type": "execute_result"
    },
    {
     "data": {
      "text/plain": [
       "- : int = 9\n"
      ]
     },
     "execution_count": 12,
     "metadata": {},
     "output_type": "execute_result"
    }
   ],
   "source": [
    "let somme t =\n",
    "    let acc = ref 0 in\n",
    "    for i=0 to (Array.length t) - 1 do\n",
    "        acc := !acc + t.(i)\n",
    "    done; !acc;;\n",
    "    \n",
    "somme [|1;3;5|];;"
   ]
  },
  {
   "cell_type": "code",
   "execution_count": 13,
   "metadata": {},
   "outputs": [
    {
     "data": {
      "text/plain": [
       "val maximum : int array -> int = <fun>\n"
      ]
     },
     "execution_count": 13,
     "metadata": {},
     "output_type": "execute_result"
    },
    {
     "data": {
      "text/plain": [
       "- : int = 6\n"
      ]
     },
     "execution_count": 13,
     "metadata": {},
     "output_type": "execute_result"
    }
   ],
   "source": [
    "let maximum t =\n",
    "    let max = ref min_int in\n",
    "    for i=0 to (Array.length t) -1 do\n",
    "        if t.(i) > !max then max := t.(i);\n",
    "    done; !max;;\n",
    "    \n",
    "maximum [|1;4;6;3|];;"
   ]
  },
  {
   "cell_type": "code",
   "execution_count": 14,
   "metadata": {},
   "outputs": [
    {
     "data": {
      "text/plain": [
       "val list_of_array : 'a array -> 'a list = <fun>\n"
      ]
     },
     "execution_count": 14,
     "metadata": {},
     "output_type": "execute_result"
    },
    {
     "data": {
      "text/plain": [
       "- : int list = [1; 5; 7; 3; 5]\n"
      ]
     },
     "execution_count": 14,
     "metadata": {},
     "output_type": "execute_result"
    }
   ],
   "source": [
    "let list_of_array t =\n",
    "    let l = ref [] in\n",
    "    for i=((Array.length t) -1) downto 0 do\n",
    "        l := t.(i)::!l\n",
    "    done; !l;;\n",
    "    \n",
    "list_of_array [|1;5;7;3;5|];;"
   ]
  },
  {
   "cell_type": "code",
   "execution_count": 15,
   "metadata": {},
   "outputs": [
    {
     "data": {
      "text/plain": [
       "val is_sorted : 'a array -> bool = <fun>\n"
      ]
     },
     "execution_count": 15,
     "metadata": {},
     "output_type": "execute_result"
    },
    {
     "data": {
      "text/plain": [
       "- : bool = true\n"
      ]
     },
     "execution_count": 15,
     "metadata": {},
     "output_type": "execute_result"
    }
   ],
   "source": [
    "let is_sorted t =\n",
    "    let sorted = ref true in\n",
    "    for i=1 to Array.length t - 1 do\n",
    "        if t.(i) < t.(i-1) then \n",
    "            sorted := false; \n",
    "    done;\n",
    "    !sorted;;\n",
    "    \n",
    "is_sorted [|1;2;4;4;7|];;"
   ]
  },
  {
   "cell_type": "markdown",
   "metadata": {},
   "source": [
    "## Maximum local dans un tableau\n",
    "\n",
    "Un maximum local dans un tableau `t` est un indice `i` tel que `t.(i) >= t.(i+1)` et `t.(i) >= t.(i-1)`. Pour les extrémités, qu'une seule de ces conditions doit être vérifiée (si `t.(i-1)` ou `t.(i+1)` n'existe pas).  \n",
    "1. Montrer qu'il existe forcément un maximum local dans `t`.  \n",
    "2. Écrire une fonction `max_local1` trouvant un maximum local dans un tableau en regardant chaque élément un par un (recherche séquentielle). Quelle est sa complexité ?  \n",
    "3. Ecrire une fonction `max_local2` faisant la même chose mais avec une méthode par dichotomie (en divisant par 2 la taille du problème à chaque itération), pour avoir une complexité logarithmique.  \n",
    "*Aide* : soit `t.(m)` le milieu du tableau. Que peut-on dire si `t.(m) < t.(m+1)` ? Si `t.(m) < t.(m-1)` ?"
   ]
  },
  {
   "cell_type": "markdown",
   "metadata": {},
   "source": [
    "1. Le tableau t contenant obligatoirement un maximum global, ce maximum est également maximum local"
   ]
  },
  {
   "cell_type": "code",
   "execution_count": 16,
   "metadata": {},
   "outputs": [
    {
     "data": {
      "text/plain": [
       "val max_local1 : unit array -> int = <fun>\n"
      ]
     },
     "execution_count": 16,
     "metadata": {},
     "output_type": "execute_result"
    }
   ],
   "source": [
    "let max_local1 t = let m = ref (-1) in\n",
    "    if t.(0) >= t.(1) then m := 0;\n",
    "    let n = Array.length t in\n",
    "    if t.(n-1) > t.(n-2) then t.(n-1) else\n",
    "    for i=1 to n-1 do\n",
    "        if t.(i) >= max t.(i-1) t.(i+1)\n",
    "        then m:=i;\n",
    "    done; \n",
    "    !m;;"
   ]
  },
  {
   "cell_type": "code",
   "execution_count": 25,
   "metadata": {},
   "outputs": [
    {
     "data": {
      "text/plain": [
       "val max_local2 : 'a array -> int = <fun>\n"
      ]
     },
     "execution_count": 25,
     "metadata": {},
     "output_type": "execute_result"
    }
   ],
   "source": [
    "let max_local2 t = \n",
    "    let m = Array.length t in\n",
    "    let rec aux i j =\n",
    "        let m = (i+j)/2 in\n",
    "        if (m=0 || t.(m) >= t.(m-1)) && (m=m-1 || t.(m) >= t.(m-1))\n",
    "        then m\n",
    "        else if m <> m-1 && t.(m) <= t.(m+1)\n",
    "        then aux (m+1) j\n",
    "        else aux i (m-1) in\n",
    "    aux 0 (m-1)"
   ]
  },
  {
   "cell_type": "code",
   "execution_count": 17,
   "metadata": {},
   "outputs": [
    {
     "data": {
      "text/plain": [
       "val dicho : 'a array -> 'a -> bool = <fun>\n"
      ]
     },
     "execution_count": 17,
     "metadata": {},
     "output_type": "execute_result"
    },
    {
     "data": {
      "text/plain": [
       "- : bool = true\n"
      ]
     },
     "execution_count": 17,
     "metadata": {},
     "output_type": "execute_result"
    }
   ],
   "source": [
    "let dicho t e =\n",
    "    let rec aux i j =\n",
    "        if i > j then false\n",
    "        else let m = (i+j)/2 in\n",
    "            if t.(m) = e then true\n",
    "            else if t.(m) < e then aux (m+1) j\n",
    "            else aux i (m-1)\n",
    "        in aux 0 (Array.length t -1);;\n",
    "        \n",
    "dicho [|1;4;5;6;7|] 6"
   ]
  },
  {
   "cell_type": "markdown",
   "metadata": {},
   "source": [
    "## Tri par comptage\n",
    "\n",
    "Écrire une fonction `tri_comptage : ’a array -> unit` qui trie un tableau `t` de taille $n$ dont les entrées sont des entiers entre 0\n",
    "et $M$ (où $M$ est le maximum de `t`), en complexité O($n + M$).  \n",
    "Pour cela :  \n",
    "- Créer un autre tableau `compte` de taille $M + 1$ (avec `Array.make`), initialement rempli de 0\n",
    "- Remplir `compte` pour que `compte.(i)` contienne le nombre d'apparitions de `i` dans `t`\n",
    "- Recopier les éléments de `compte` dans `t` dans l'ordre croissant pour obtenir un tableau trié"
   ]
  },
  {
   "cell_type": "code",
   "execution_count": 29,
   "metadata": {},
   "outputs": [
    {
     "data": {
      "text/plain": [
       "val tri_comptage : int array -> int array = <fun>\n"
      ]
     },
     "execution_count": 29,
     "metadata": {},
     "output_type": "execute_result"
    },
    {
     "ename": "error",
     "evalue": "runtime_error",
     "output_type": "error",
     "traceback": [
      "\u001b[31mException: Invalid_argument \"index out of bounds\".\nRaised by primitive operation at file \"[29]\", line 5, characters 28-44\nCalled from file \"toplevel/toploop.ml\", line 208, characters 17-27\n\u001b[0m"
     ]
    }
   ],
   "source": [
    "let tri_comptage t = \n",
    "    let m = maximum t in\n",
    "    let compte = (Array.make (m-1) 0) in\n",
    "    for i=0 to Array.length t - 1 do\n",
    "        compte.(t.(i)-1) <- compte.(t.(i)-1) + 1\n",
    "    done;\n",
    "    compte;;\n",
    "    \n",
    "tri_comptage [|1;4;6;3;6;3;5|];;"
   ]
  },
  {
   "cell_type": "markdown",
   "metadata": {},
   "source": [
    "## Tranche maximum\r\n",
    "\r\n",
    "Ecrire une fonction `tranche_max : int array -> int` qui renvoie en O($n$) la somme maximum d'éléments consécutifs d'un tableau de taille $n$. Par exemple, `tranche_max [|1; -2; 6; -3; 2; 4; -8; 7|]` doit renvoyer $9$, correspondant aux éléments 6; -3; 2; 4.  \r\n",
    "\r\n",
    "*Indice* : parcourir le tableau `t` avec une boucle for. Stocker 2 variables `m` et `m_cur` telles que, au $i$ème passage dans la boucle for :  \r\n",
    "- `m` contient la somme maximum d'éléments consécutifs parmi les $i$ premiers éléments du tableau\r\n",
    "- `m_cur` contient la somme maximum d'éléments consécutifs finissant en `t.(i)`.  \r\n",
    "Par exemple, lorsque `tranche_max [|1; -2; 6; -3; 2; 4; -8; 7|]` exécute la $3$ème itération de la boucle `for` (c'est à dire que -3 est considéré), `m` contient 6 (correspondant au seul élément 6) et `m_cur` contient 3 (correspondant à 6; -3)."
   ]
  },
  {
   "cell_type": "markdown",
   "metadata": {},
   "source": [
    "## Inversions dans un tableau"
   ]
  },
  {
   "cell_type": "markdown",
   "metadata": {},
   "source": [
    "Étant donné un tableau `t`, une inversion de `t` est un couple d'indices $(i, j)$ tels que $i < j$ et `t`.$(i)$ > `t`.$(j)$. Par exemple, `[|4; 1; 5; 2|]` possède 3 inversions: $(0, 1)$, $(0, 3)$ et $(2, 3)$.\n",
    "- Écrire une fonction `inv` en O($n^2$) déterminant le nombre d'inversions d'un tableau de taille $n$.\n",
    "- Écrire une fonction `inv_triee` telle que, si `l1` et `l2` sont deux listes triées par ordre croissant, renvoie le nombre de couples $(i, j)$ tels que `l1.(i) > l2.(j)`.\n",
    "- (Difficile) Écrire une fonction `inv2` telle que, si `t` est un tableau de taille $n$, `inv2 t` renvoie le nombre d'inversions de `t` en complexité O($n\\log(n)$).  \n",
    "On modifiera le tri fusion pour renvoyer le nombre d'inversions en plus de la liste triée."
   ]
  },
  {
   "cell_type": "markdown",
   "metadata": {},
   "source": []
  }
 ],
 "metadata": {
  "kernelspec": {
   "display_name": "OCaml default",
   "language": "OCaml",
   "name": "ocaml-jupyter"
  },
  "language_info": {
   "codemirror_mode": "text/x-ocaml",
   "file_extension": ".ml",
   "mimetype": "text/x-ocaml",
   "name": "OCaml",
   "nbconverter_exporter": null,
   "pygments_lexer": "OCaml",
   "version": "4.08.1"
  }
 },
 "nbformat": 4,
 "nbformat_minor": 4
}
