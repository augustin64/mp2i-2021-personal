{
 "cells": [
  {
   "cell_type": "code",
   "execution_count": 1,
   "id": "8c149e97-1368-4bf4-9361-76f9d5b12319",
   "metadata": {},
   "outputs": [
    {
     "data": {
      "text/plain": [
       "val doublon : 'a list -> bool = <fun>\n"
      ]
     },
     "execution_count": 1,
     "metadata": {},
     "output_type": "execute_result"
    },
    {
     "data": {
      "text/plain": [
       "- : bool = true\n"
      ]
     },
     "execution_count": 1,
     "metadata": {},
     "output_type": "execute_result"
    }
   ],
   "source": [
    "let rec doublon l = match l with\n",
    "    | [] -> false\n",
    "    | e::q -> List.mem e q || doublon q;;\n",
    "(*Complexité n²*)    \n",
    "    \n",
    "    \n",
    "doublon [1;4;66;1;3];;"
   ]
  },
  {
   "cell_type": "code",
   "execution_count": 2,
   "id": "71e881a2-0a05-4b9a-a4a9-319f9c2eb1f1",
   "metadata": {},
   "outputs": [
    {
     "data": {
      "text/plain": [
       "val doublon : 'a list -> bool = <fun>\n"
      ]
     },
     "execution_count": 2,
     "metadata": {},
     "output_type": "execute_result"
    },
    {
     "data": {
      "text/plain": [
       "- : bool = true\n"
      ]
     },
     "execution_count": 2,
     "metadata": {},
     "output_type": "execute_result"
    }
   ],
   "source": [
    "let rec doublon l = match l with\n",
    "    | [] -> false\n",
    "    | [e] -> false\n",
    "    | e::f::q -> e = f || doublon (f::q);;\n",
    "(*\n",
    "Complexité en O(n)\n",
    "Complexité totale (avec tri) :\n",
    "O(n log n) + O(n) = O(n log n)\n",
    "O(log n) étant la complexité du tri-fusion\n",
    "*)\n",
    "\n",
    "doublon [1;3;4;4;5];;"
   ]
  },
  {
   "cell_type": "code",
   "execution_count": 3,
   "id": "e9c0013e-1c22-4bb2-9462-153471d4784c",
   "metadata": {},
   "outputs": [
    {
     "data": {
      "text/plain": [
       "val croissante : 'a list -> bool = <fun>\n"
      ]
     },
     "execution_count": 3,
     "metadata": {},
     "output_type": "execute_result"
    }
   ],
   "source": [
    "let rec croissante = function\n",
    "    | [] -> true\n",
    "    | [e] -> true\n",
    "    | e1::e2::q -> e1 <= e2 && croissante (e2::q)"
   ]
  },
  {
   "cell_type": "code",
   "execution_count": 4,
   "id": "71fc872a-a066-48c0-845c-059b642bdfc9",
   "metadata": {},
   "outputs": [
    {
     "data": {
      "text/plain": [
       "- : bool = true\n"
      ]
     },
     "execution_count": 4,
     "metadata": {},
     "output_type": "execute_result"
    }
   ],
   "source": [
    "croissante [1,4,5,15];;"
   ]
  },
  {
   "cell_type": "code",
   "execution_count": 5,
   "id": "3d8b9c2c-db9e-41fe-80b8-80b03161420d",
   "metadata": {},
   "outputs": [
    {
     "data": {
      "text/plain": [
       "val somme : int array -> int -> int -> int = <fun>\n"
      ]
     },
     "execution_count": 5,
     "metadata": {},
     "output_type": "execute_result"
    },
    {
     "data": {
      "text/plain": [
       "val somme_nulle : int array -> bool = <fun>\n"
      ]
     },
     "execution_count": 5,
     "metadata": {},
     "output_type": "execute_result"
    },
    {
     "data": {
      "text/plain": [
       "- : bool = false\n"
      ]
     },
     "execution_count": 5,
     "metadata": {},
     "output_type": "execute_result"
    }
   ],
   "source": [
    "(*\n",
    "ecrire une fonction pour savoir si un tableau contient une somme consécutive égale à 0\n",
    "*)\n",
    "let somme t j k =\n",
    "    let somme = ref 0 in\n",
    "    for i=j to k do\n",
    "        somme := !somme + t.(i)\n",
    "    done;\n",
    "    !somme;;\n",
    "\n",
    "let somme_nulle t =\n",
    "    let verif = ref false in\n",
    "    for i=0 to (Array.length t)-1 do\n",
    "        let s = ref 0 in\n",
    "        for j=i to (Array.length t)-1 do\n",
    "            s := !s + t.(j);\n",
    "            verif := !verif || !s=0\n",
    "        done;\n",
    "    done;\n",
    "    !verif;;\n",
    "                \n",
    "let t = [|2;-3;2;4;2;6|] in\n",
    "somme_nulle t;;"
   ]
  },
  {
   "cell_type": "code",
   "execution_count": 6,
   "id": "c1faf019-985b-4c98-82fb-6e4bd9d786d6",
   "metadata": {},
   "outputs": [
    {
     "data": {
      "text/plain": [
       "val split : 'a list -> 'a list * 'a list = <fun>\n"
      ]
     },
     "execution_count": 6,
     "metadata": {},
     "output_type": "execute_result"
    },
    {
     "data": {
      "text/plain": [
       "val fusion : 'a list -> 'a list -> 'a list = <fun>\n"
      ]
     },
     "execution_count": 6,
     "metadata": {},
     "output_type": "execute_result"
    },
    {
     "data": {
      "text/plain": [
       "val tri : 'a list -> 'a list = <fun>\n"
      ]
     },
     "execution_count": 6,
     "metadata": {},
     "output_type": "execute_result"
    }
   ],
   "source": [
    "let rec split = function\n",
    "    | [] -> [], []\n",
    "    | [e] -> [e], []\n",
    "    | e1::e2::q -> let q1, q2 = split q in\n",
    "        e1::q1, e2::q2\n",
    "        \n",
    "let rec fusion l1 l2 = match l1, l2 with\n",
    "    | [], _ -> l2\n",
    "    | _, [] -> l1\n",
    "    | e1::q1, e2::q2 when e1 < e2 -> e1::fusion q1 l2\n",
    "    | e1::q1, e2::q2 -> e2::fusion l1 q2\n",
    "    \n",
    "    \n",
    "let rec tri = function\n",
    "    | [] -> []\n",
    "    | [e] -> [e] (* tri ne termine pas sans ce cas *)\n",
    "    | l -> let l1, l2 = split l in\n",
    "    fusion (tri l1) (tri l2);"
   ]
  },
  {
   "cell_type": "code",
   "execution_count": 11,
   "id": "22dd7aaa-883f-45f9-b749-eacf156f64ef",
   "metadata": {},
   "outputs": [
    {
     "data": {
      "text/plain": [
       "val sommes : int array -> int list = <fun>\n"
      ]
     },
     "execution_count": 11,
     "metadata": {},
     "output_type": "execute_result"
    }
   ],
   "source": [
    "let sommes t =\n",
    "    let somme = ref 0 in\n",
    "    let l = ref [] in\n",
    "    for i=0 to (Array.length t)-1 do\n",
    "        somme := !somme + t.(i);\n",
    "        l := (!somme)::!l\n",
    "    done;\n",
    "    !l;;"
   ]
  },
  {
   "cell_type": "code",
   "execution_count": 22,
   "id": "d8874ffe-5e3a-4c6e-b760-b45d94588acc",
   "metadata": {},
   "outputs": [
    {
     "data": {
      "text/plain": [
       "- : bool = true\n"
      ]
     },
     "execution_count": 22,
     "metadata": {},
     "output_type": "execute_result"
    }
   ],
   "source": [
    "let t = [|2;-3;2;-4;2;6|] in\n",
    "let s = sommes t in\n",
    "let sorted = tri s in\n",
    "doublon sorted"
   ]
  },
  {
   "cell_type": "code",
   "execution_count": null,
   "id": "0e832e10-d6e6-4b4b-8678-4dc9e6a97286",
   "metadata": {},
   "outputs": [],
   "source": []
  }
 ],
 "metadata": {
  "kernelspec": {
   "display_name": "OCaml default",
   "language": "OCaml",
   "name": "ocaml-jupyter"
  },
  "language_info": {
   "codemirror_mode": "text/x-ocaml",
   "file_extension": ".ml",
   "mimetype": "text/x-ocaml",
   "name": "OCaml",
   "nbconverter_exporter": null,
   "pygments_lexer": "OCaml",
   "version": "4.08.1"
  }
 },
 "nbformat": 4,
 "nbformat_minor": 5
}
