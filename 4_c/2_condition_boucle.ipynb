{
 "cells": [
  {
   "cell_type": "markdown",
   "id": "89feb20b-17db-4c2f-8051-6d84bb9d647f",
   "metadata": {},
   "source": [
    "# <center><a href='https://mybinder.org/v2/gh/fortierq/binder-mp2i/main?urlpath=git-pull%3Frepo%3Dhttps%253A%252F%252Fgithub.com%252Faugustin64%252Fmp2i-2021%26urlpath%3Dlab%252Ftree%252Fmp2i-2021%252Fpersonnal%252F4_c%252F2_condition_boucle.ipynb%26branch%3Dmain'>Conditions et boucles <img src=https://mybinder.org/badge.svg></a></center>\n",
    "\n",
    "## Booléen\n",
    "\n",
    "Un booléen est de type `bool` et est soit `true`, soit `false` :"
   ]
  },
  {
   "cell_type": "code",
   "execution_count": 1,
   "id": "4ffec658-fe8d-408c-bbfd-307b019095f7",
   "metadata": {
    "tags": []
   },
   "outputs": [],
   "source": [
    "bool b = false;"
   ]
  },
  {
   "cell_type": "markdown",
   "id": "be250c5c-4cae-4f57-a6a7-1832b603893c",
   "metadata": {},
   "source": [
    "Un booléen est codé sur 1 octet = 8 bits (il y a donc 7 bits qui sont \"gachés\", car 1 octet est le minimum que l'on puisse allouer sur un ordinateur) :"
   ]
  },
  {
   "cell_type": "code",
   "execution_count": 2,
   "id": "2ea26719-5eaf-4ed0-8a99-870ee263da2d",
   "metadata": {
    "execution": {
     "iopub.execute_input": "2021-11-16T20:06:47.016238Z",
     "iopub.status.busy": "2021-11-16T20:06:47.015812Z",
     "iopub.status.idle": "2021-11-16T20:06:47.446339Z",
     "shell.execute_reply": "2021-11-16T20:06:47.445047Z"
    }
   },
   "outputs": [
    {
     "data": {
      "text/plain": [
       "1"
      ]
     },
     "execution_count": 2,
     "metadata": {},
     "output_type": "execute_result"
    }
   ],
   "source": [
    "sizeof(b)"
   ]
  },
  {
   "cell_type": "markdown",
   "id": "00f75f1e-02bb-49e7-a4a0-31e6b42d6c16",
   "metadata": {},
   "source": [
    "Les opérateurs de comparaison sont très similaires à OCaml et Python :"
   ]
  },
  {
   "cell_type": "code",
   "execution_count": 3,
   "id": "a0c3915d-b2de-4a87-9c94-b22822a84fea",
   "metadata": {
    "execution": {
     "iopub.execute_input": "2021-11-16T20:06:47.449674Z",
     "iopub.status.busy": "2021-11-16T20:06:47.449179Z",
     "iopub.status.idle": "2021-11-16T20:06:47.762198Z",
     "shell.execute_reply": "2021-11-16T20:06:47.761143Z"
    }
   },
   "outputs": [
    {
     "data": {
      "text/plain": [
       "true"
      ]
     },
     "execution_count": 3,
     "metadata": {},
     "output_type": "execute_result"
    }
   ],
   "source": [
    "1 <= 1"
   ]
  },
  {
   "cell_type": "code",
   "execution_count": 4,
   "id": "623aa20f-3199-4fe6-9da2-e109a5956e95",
   "metadata": {
    "execution": {
     "iopub.execute_input": "2021-11-16T20:06:47.765525Z",
     "iopub.status.busy": "2021-11-16T20:06:47.765111Z",
     "iopub.status.idle": "2021-11-16T20:06:48.075638Z",
     "shell.execute_reply": "2021-11-16T20:06:48.075250Z"
    }
   },
   "outputs": [
    {
     "data": {
      "text/plain": [
       "false"
      ]
     },
     "execution_count": 4,
     "metadata": {},
     "output_type": "execute_result"
    }
   ],
   "source": [
    "1 < 1"
   ]
  },
  {
   "cell_type": "code",
   "execution_count": 5,
   "id": "42c04e8a-e845-4223-bb57-f25e06c2eacf",
   "metadata": {
    "execution": {
     "iopub.execute_input": "2021-11-16T20:06:48.077349Z",
     "iopub.status.busy": "2021-11-16T20:06:48.076951Z",
     "iopub.status.idle": "2021-11-16T20:06:48.426224Z",
     "shell.execute_reply": "2021-11-16T20:06:48.425096Z"
    }
   },
   "outputs": [
    {
     "data": {
      "text/plain": [
       "true"
      ]
     },
     "execution_count": 5,
     "metadata": {},
     "output_type": "execute_result"
    }
   ],
   "source": [
    "1 == 1  // équivalent du = en OCaml"
   ]
  },
  {
   "cell_type": "code",
   "execution_count": 6,
   "id": "fe3a86ea-34c8-44eb-a0f9-861e8f308b34",
   "metadata": {
    "execution": {
     "iopub.execute_input": "2021-11-16T20:06:48.429733Z",
     "iopub.status.busy": "2021-11-16T20:06:48.429255Z",
     "iopub.status.idle": "2021-11-16T20:06:48.789131Z",
     "shell.execute_reply": "2021-11-16T20:06:48.787833Z"
    }
   },
   "outputs": [
    {
     "data": {
      "text/plain": [
       "false"
      ]
     },
     "execution_count": 6,
     "metadata": {},
     "output_type": "execute_result"
    }
   ],
   "source": [
    "1 != 1  // équivalent du <> en OCaml"
   ]
  },
  {
   "cell_type": "markdown",
   "id": "a9c436cb-2b80-4a8c-9ffd-e0858546ece2",
   "metadata": {},
   "source": [
    "Voici une comparaison des opérateurs sur les booléens :\n",
    "\n",
    "|     | C      | OCaml  | Python |\n",
    "|-----|--------|--------|--------|\n",
    "| et  | `&&`   | `&&`   | `and`  |\n",
    "| ou  | `\\|\\|` | `\\|\\|` | `or`   |\n",
    "| non | `!`    | `not`  | `not`  |"
   ]
  },
  {
   "cell_type": "markdown",
   "id": "e5788221-261c-4a81-b650-31bb2fac5550",
   "metadata": {},
   "source": [
    "Lorsque `a` est vraie, `a || b` évalue seulement `a` et `b` n'est jamais évalué. C'est ce qu'on appelle l'**évaluation paresseuse**.  \n",
    "Dans l'exemple suivant, on utilise le fait que `printf` renvoie le nombre de caractères affichés (c'est-à-dire la taille de la chaîne de caractères en argument), qui est implicitement convertit en booléen (`0` est convertit en `false` et tous les autres entiers en `true`) :"
   ]
  },
  {
   "cell_type": "code",
   "execution_count": 7,
   "id": "6bce288e-90ef-47cb-b85e-447f7869c945",
   "metadata": {
    "execution": {
     "iopub.execute_input": "2021-11-16T20:06:48.790724Z",
     "iopub.status.busy": "2021-11-16T20:06:48.790350Z",
     "iopub.status.idle": "2021-11-16T20:06:49.143397Z",
     "shell.execute_reply": "2021-11-16T20:06:49.142262Z"
    }
   },
   "outputs": [
    {
     "name": "stdout",
     "output_type": "stream",
     "text": [
      "a"
     ]
    },
    {
     "data": {
      "text/plain": [
       "true"
      ]
     },
     "execution_count": 7,
     "metadata": {},
     "output_type": "execute_result"
    }
   ],
   "source": [
    "printf(\"a\") || printf(\"b\") // printf(\"a\") est exécuté mais pas printf(\"b\")"
   ]
  },
  {
   "cell_type": "markdown",
   "id": "4ec7f6c9-d382-492d-a3dc-15cd282590d3",
   "metadata": {
    "tags": [
     "exo"
    ]
   },
   "source": [
    "**Exercice** : Devinez ce qu'affiche `(1 - printf(\"a\")) && (1 - printf(\"b\"))` puis vérifier. "
   ]
  },
  {
   "cell_type": "markdown",
   "id": "39cedb7d-38b5-422a-87ab-00604a2d1d0f",
   "metadata": {},
   "source": [
    "## Condition if\n",
    "\n",
    "Voici un exemple de `if` :"
   ]
  },
  {
   "cell_type": "code",
   "execution_count": 8,
   "id": "4ef24076-6153-48c3-a31e-fc7ab2860b40",
   "metadata": {
    "execution": {
     "iopub.execute_input": "2021-11-16T20:06:49.145664Z",
     "iopub.status.busy": "2021-11-16T20:06:49.145160Z",
     "iopub.status.idle": "2021-11-16T20:06:49.148233Z",
     "shell.execute_reply": "2021-11-16T20:06:49.147841Z"
    }
   },
   "outputs": [
    {
     "name": "stdout",
     "output_type": "stream",
     "text": [
      "n est pair"
     ]
    }
   ],
   "source": [
    "int n = 42;\n",
    "if(n % 2 == 0) {\n",
    "    printf(\"n est pair\");\n",
    "}"
   ]
  },
  {
   "cell_type": "markdown",
   "id": "2cf07098-7bbc-4f9e-965c-6482cd56df6d",
   "metadata": {},
   "source": [
    "Les accolades servent à délimiter le bloc qui sera exécuté si la condition du `if` est `true`.  \n",
    "Il est possible (mais pas forcément conseillé) d'ommettre les parenthèses s'il n'y a qu'une instruction dans le `if` :"
   ]
  },
  {
   "cell_type": "code",
   "execution_count": 9,
   "id": "a5bd8893-9e84-4b93-baf2-3d2bb28e338b",
   "metadata": {
    "execution": {
     "iopub.execute_input": "2021-11-16T20:06:49.150104Z",
     "iopub.status.busy": "2021-11-16T20:06:49.149628Z",
     "iopub.status.idle": "2021-11-16T20:06:49.152402Z",
     "shell.execute_reply": "2021-11-16T20:06:49.152014Z"
    }
   },
   "outputs": [
    {
     "name": "stdout",
     "output_type": "stream",
     "text": [
      "n est pair"
     ]
    }
   ],
   "source": [
    "if(n % 2 == 0)\n",
    "    printf(\"n est pair\");"
   ]
  },
  {
   "cell_type": "markdown",
   "id": "266cedf2-e1fd-44a2-86a3-f4d9abbc45bc",
   "metadata": {},
   "source": [
    "On peut aussi utiliser `else` :"
   ]
  },
  {
   "cell_type": "code",
   "execution_count": 10,
   "id": "0275c837-5cd5-4264-8698-17c86b738c9b",
   "metadata": {
    "execution": {
     "iopub.execute_input": "2021-11-16T20:06:49.153996Z",
     "iopub.status.busy": "2021-11-16T20:06:49.153583Z",
     "iopub.status.idle": "2021-11-16T20:06:49.156543Z",
     "shell.execute_reply": "2021-11-16T20:06:49.156157Z"
    }
   },
   "outputs": [
    {
     "name": "stdout",
     "output_type": "stream",
     "text": [
      "n est impair"
     ]
    }
   ],
   "source": [
    "int n = 1;\n",
    "if(n % 2 == 0) {\n",
    "    printf(\"n est pair\");\n",
    "}\n",
    "else {\n",
    "    printf(\"n est impair\");\n",
    "}"
   ]
  },
  {
   "cell_type": "markdown",
   "id": "b2578d4d-62a1-436b-8c39-4a31b6b32090",
   "metadata": {},
   "source": [
    "## Boucle for\n",
    "\n",
    "La boucle `for` suivante répète les instructions entre accolades pour `i` variant de 0 à 4 :"
   ]
  },
  {
   "cell_type": "code",
   "execution_count": 8,
   "id": "29be2d46-db1c-4a85-b6ec-ad90f5e73d53",
   "metadata": {
    "tags": []
   },
   "outputs": [
    {
     "name": "stdout",
     "output_type": "stream",
     "text": [
      "0 1 2 3 4 "
     ]
    }
   ],
   "source": [
    "for(int i = 0; i < 5; i++) {\n",
    "    printf(\"%d \", i);\n",
    "}"
   ]
  },
  {
   "cell_type": "markdown",
   "id": "849c5a57-c257-43cd-8220-3411487434b1",
   "metadata": {},
   "source": [
    "- `int i = 0` est exécuté la première fois qu'on rentre dans la boucle `for` : une variable `i` est créée avec la valeur `0`\n",
    "- `i < 5` est la condition pour que la boucle continue d'être exécutée\n",
    "- `i++` est une instruction effectuée à la fin de chaque passage dans le `for` : `i` est augmentée de 1 (`i++` est équivalent à `i += 1` ou `i = i + 1`)"
   ]
  },
  {
   "cell_type": "markdown",
   "id": "3f5c9545-acff-46aa-a273-878c7b0b89f0",
   "metadata": {
    "tags": [
     "exo"
    ]
   },
   "source": [
    "**Exercice** : Calculer $10!$"
   ]
  },
  {
   "cell_type": "code",
   "execution_count": 17,
   "id": "f09a3a51-0ed1-4464-9555-fb45c80f85de",
   "metadata": {},
   "outputs": [
    {
     "name": "stdout",
     "output_type": "stream",
     "text": [
      "Valeur de 10! : 3628800 "
     ]
    }
   ],
   "source": [
    "int j=1;\n",
    "for (int i=10; i>0; i--) {\n",
    "    j*=i;\n",
    "};\n",
    "printf(\"Valeur de 10! : %d \", j);"
   ]
  },
  {
   "cell_type": "markdown",
   "id": "7d468d9d-2aa0-48a2-a3dd-b91afff26c10",
   "metadata": {},
   "source": [
    "## Boucle while\n",
    "\n",
    "La boucle `while` répète un bloc d'instructions tant que la condition entre parenthèses est vraie. Par exemple, affichons les termes de la suite de Syracuse jusqu'à ce qu'elle soit égale à 1 (une conjecture célèbre dit qu'elle devient toujours égale à 1) :"
   ]
  },
  {
   "cell_type": "code",
   "execution_count": 12,
   "id": "b745392b-9462-4c12-a8f3-bb5147eaa40c",
   "metadata": {
    "execution": {
     "iopub.execute_input": "2021-11-16T20:06:49.161732Z",
     "iopub.status.busy": "2021-11-16T20:06:49.161317Z",
     "iopub.status.idle": "2021-11-16T20:06:49.163699Z",
     "shell.execute_reply": "2021-11-16T20:06:49.163352Z"
    }
   },
   "outputs": [
    {
     "name": "stdout",
     "output_type": "stream",
     "text": [
      "5 16 8 4 2 "
     ]
    }
   ],
   "source": [
    "int s = 5;\n",
    "while(s != 1) {\n",
    "    printf(\"%d \", s);\n",
    "    if(s % 2 == 0)\n",
    "        s = s / 2;\n",
    "    else\n",
    "        s = 3*s + 1;\n",
    "}"
   ]
  },
  {
   "cell_type": "markdown",
   "id": "1072f7a8-f49b-4181-9bc4-a26314fa660d",
   "metadata": {},
   "source": [
    "**Exercice** : Afficher les chiffres de la décomposition en base 2 de 42."
   ]
  },
  {
   "cell_type": "code",
   "execution_count": 23,
   "id": "c26594c1-37b0-44ed-a53a-3e7cf6837171",
   "metadata": {},
   "outputs": [
    {
     "name": "stdout",
     "output_type": "stream",
     "text": [
      "010101"
     ]
    }
   ],
   "source": [
    "int n = 42;\n",
    "while(n > 0) {\n",
    "    printf(\"%d\", n % 2);\n",
    "    n /= 2;\n",
    "}"
   ]
  },
  {
   "cell_type": "code",
   "execution_count": null,
   "id": "19a937ac-49b6-437f-b780-62beb3fe1162",
   "metadata": {},
   "outputs": [],
   "source": []
  }
 ],
 "metadata": {
  "kernelspec": {
   "display_name": "C++14",
   "language": "C++14",
   "name": "xcpp14"
  },
  "language_info": {
   "codemirror_mode": "text/x-c++src",
   "file_extension": ".cpp",
   "mimetype": "text/x-c++src",
   "name": "c++",
   "version": "14"
  }
 },
 "nbformat": 4,
 "nbformat_minor": 5
}
