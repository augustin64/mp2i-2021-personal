{
 "cells": [
  {
   "cell_type": "markdown",
   "id": "549b4744-7395-43e1-9486-e4031db5d918",
   "metadata": {},
   "source": [
    "# <center><a href='https://mybinder.org/v2/gh/fortierq/binder-mp2i/main?urlpath=git-pull%3Frepo%3Dhttps%253A%252F%252Fgithub.com%252Faugustin64%252Fmp2i-2021%26urlpath%3Dlab%252Ftree%252Fmp2i-2021%252Fpersonnal%252F4_c%252F1_bitfield.ipynb%26branch%3Dmain'>TP 1 : Implémentation d'une structure d'ensemble à l'aide d'une représentation binaire (*bit field*) <img src=https://mybinder.org/badge.svg></a></center>\n",
    "\n",
    "On rappelle qu'un `uint` est un entier non-signé (positif). Ils sont stockés sur $4$ octets, soit $4\\times 8 = 32$ bits :"
   ]
  },
  {
   "cell_type": "code",
   "execution_count": 1,
   "id": "03452d8d-1312-43e8-8bcf-b6826544638a",
   "metadata": {
    "execution": {
     "iopub.execute_input": "2021-11-18T13:47:02.440880Z",
     "iopub.status.busy": "2021-11-18T13:47:02.440311Z",
     "iopub.status.idle": "2021-11-18T13:47:03.051734Z",
     "shell.execute_reply": "2021-11-18T13:47:03.051114Z"
    }
   },
   "outputs": [
    {
     "data": {
      "text/plain": [
       "4"
      ]
     },
     "execution_count": 1,
     "metadata": {},
     "output_type": "execute_result"
    }
   ],
   "source": [
    "uint x = 18;\n",
    "sizeof(x) // 4 octets"
   ]
  },
  {
   "cell_type": "markdown",
   "id": "c6461fbf-2315-4178-b857-44d54f30e63f",
   "metadata": {},
   "source": [
    "On rappelle qu'un `uint` est stocké en mémoire en base 2. Ainsi, $18$ est stocké comme $1010_2$.  \n",
    "Dans ce TP, on utilise la représentation binaire des entiers positifs pour coder des ensembles : à chaque entier écrit en base 2 on associe l'ensemble dont les éléments sont les positions des bits égaux à 1.  \n",
    "Par exemple, $1010_2$ a deux bits égaux à $1$, en positions $1$ et $3$ (la position 0 étant celle du chiffre des unités, tout à droite). Donc l'entier $1010_2$, c'est-à-dire $18$, représente l'ensemble $\\{1, 3\\}$.  \n",
    "Comme un `uint` est stocké sur $32$ bits, cette méthode permet donc de coder n'importe quel sous-ensemble de $\\{0, ..., 31\\}$ sous forme d'un `uint`.  \n",
    "Pour les questions suivantes, on pourra utiliser `&`, `|`, `<<`, `~` (voir 1er cours de C)."
   ]
  },
  {
   "cell_type": "markdown",
   "id": "9d02640b-35ea-4c89-a57e-4cfb594cc06d",
   "metadata": {},
   "source": [
    "## Petites questions"
   ]
  },
  {
   "cell_type": "markdown",
   "id": "af02f72d-c974-497b-a31e-4454c560cbd8",
   "metadata": {
    "tags": [
     "exo"
    ]
   },
   "source": [
    "1. Par quel entier est codé l'ensemble $\\{0, 3, 4\\}$?\n",
    "2. Quel est l'ensemble codé par l'entier $26$ ?\n",
    "3. Écrire une fonction `singleton` telle que `singleton(i)` renvoie l'entier représentant $\\{i\\}$, c'est-à-dire $2^i$ ($= 1\\underbrace{0...0}_i {}_2$)."
   ]
  },
  {
   "cell_type": "markdown",
   "id": "53484d69-cf98-4a15-8c20-2d5d35118494",
   "metadata": {},
   "source": [
    "1. $11001_2$ = 25"
   ]
  },
  {
   "cell_type": "markdown",
   "id": "82691d66-576e-4a87-9e3f-7bb82d6cb178",
   "metadata": {},
   "source": [
    "2. 26 = $11010_2$ -> {1,3,4}"
   ]
  },
  {
   "cell_type": "code",
   "execution_count": 20,
   "id": "845cc6ba-a37a-4768-bc46-179ee1f216a8",
   "metadata": {},
   "outputs": [],
   "source": [
    "// Question 3 : singleton(i)\n",
    "uint singleton(uint i) {\n",
    "    return 1 << i;\n",
    "};"
   ]
  },
  {
   "cell_type": "code",
   "execution_count": 7,
   "id": "42653d6f-7ad4-4d1d-a3fd-c1f21b1b456d",
   "metadata": {},
   "outputs": [
    {
     "data": {
      "text/plain": [
       "32"
      ]
     },
     "execution_count": 7,
     "metadata": {},
     "output_type": "execute_result"
    }
   ],
   "source": [
    "singleton(5)"
   ]
  },
  {
   "cell_type": "markdown",
   "id": "b6ab3c55-2b18-47a0-bdea-d10ac0b032f0",
   "metadata": {
    "tags": []
   },
   "source": [
    "## Union, intersection, appartenance"
   ]
  },
  {
   "cell_type": "markdown",
   "id": "be09ecc1-51e1-4547-8131-e84c6ca35ee0",
   "metadata": {
    "tags": [
     "exo"
    ]
   },
   "source": [
    "1. Écrire une fonction `union` telle que, si `s1` et `s2` sont deux entiers représentants des ensembles, `union(s1, s2)` renvoie un entier représentant leur union.  \n",
    "2. Faire de même pour l'intersection de deux ensembles.  \n",
    "3. Écrire une fonction `has` telle que `has(s, e)` détermine si l'entier `e` appartient à l'ensemble représenté par l'entier `s`.  "
   ]
  },
  {
   "cell_type": "code",
   "execution_count": 21,
   "id": "79c88536-2928-4bfb-857f-607c7b79202d",
   "metadata": {},
   "outputs": [],
   "source": [
    "// Question 1 : union2(s1, s2)\n",
    "uint union2(uint s1, uint s2) {\n",
    "    return (s1 | s2);\n",
    "};"
   ]
  },
  {
   "cell_type": "code",
   "execution_count": 22,
   "id": "96e209fc-50c7-458e-9dac-8e6e1f8d86f7",
   "metadata": {},
   "outputs": [],
   "source": [
    "// Question 2 : intersection(s1, s2)\n",
    "uint intersection(uint s1, uint s2) {\n",
    "    return (s1 & s2);\n",
    "};"
   ]
  },
  {
   "cell_type": "code",
   "execution_count": 23,
   "id": "7d846e8e-8772-4973-b7b4-6c76ab477b96",
   "metadata": {},
   "outputs": [],
   "source": [
    "// Question 3 : has(s, e)\n",
    "bool has (uint s,uint e) {\n",
    "    return (intersection (singleton(e), s) != 0);\n",
    "}"
   ]
  },
  {
   "cell_type": "code",
   "execution_count": 11,
   "id": "4cd62437-df96-4b8f-8bbd-b0248d0c6991",
   "metadata": {},
   "outputs": [
    {
     "data": {
      "text/plain": [
       "false"
      ]
     },
     "execution_count": 11,
     "metadata": {},
     "output_type": "execute_result"
    }
   ],
   "source": [
    "has (26, 2)"
   ]
  },
  {
   "cell_type": "markdown",
   "id": "ad75e4ec-c46b-4301-956f-85bfb828d470",
   "metadata": {
    "tags": []
   },
   "source": [
    "## Algorithme de Kernighan"
   ]
  },
  {
   "cell_type": "markdown",
   "id": "6b04199a-8c39-4cf1-b2a2-ed6840338a18",
   "metadata": {},
   "source": [
    "1. Si $n = 1011100_2$, que vaut $n$ & $(n - 1)$ ? Quel est le lien entre l'écriture de $n$ et celle de $n$ & $(n - 1)$ ?\n",
    "2. En s'inspirant de la question précédente, écrire une fonction `card` telle que `card(n)` renvoie le nombre de 1 dans l'écriture binaire de `n`. Cette fonction sera linéaire en le nombre de 1 dans l'écriture binaire de `n`. (Remarque : `card` renvoie donc le cardinal (taille) de l'ensemble codé par l'entier en argument)  \n",
    "3. Un des intérêts de cette représentation binaire des ensembles est qu'il est facile d'énumérer tous les sous-ensembles de $\\{0, ..., 31\\}$, en faisant une boucle `for` sur les entiers de $0$ à $2^{32} - 1$. Calculer ainsi la somme des cardinaux de tous les sous-ensembles de $\\{0, ..., 31\\}$. Quel nombre retrouve t-on?  "
   ]
  },
  {
   "cell_type": "markdown",
   "id": "11bc4e30-32d6-44f1-ba01-fe906a36930d",
   "metadata": {},
   "source": [
    "1. `n & (n -1)` a pour effet de supprimer le dernier bit de n"
   ]
  },
  {
   "cell_type": "code",
   "execution_count": 45,
   "id": "b879eb21-acfc-4931-a763-69e3d5693391",
   "metadata": {},
   "outputs": [],
   "source": [
    "// Question 2 : card(s)\n",
    "uint card (uint s) {\n",
    "    uint i = 0;\n",
    "    while (s != 0) {\n",
    "        s = s & (s-1);\n",
    "        i++;\n",
    "    };\n",
    "    return i;\n",
    "};"
   ]
  },
  {
   "cell_type": "code",
   "execution_count": 46,
   "id": "bc16999c-ae62-4d5c-816e-a5616fba98d0",
   "metadata": {},
   "outputs": [
    {
     "data": {
      "text/plain": [
       "2"
      ]
     },
     "execution_count": 46,
     "metadata": {},
     "output_type": "execute_result"
    }
   ],
   "source": [
    "card (129)"
   ]
  },
  {
   "cell_type": "code",
   "execution_count": 47,
   "id": "9768c4a9-7343-47b6-baa5-9a10de4febc8",
   "metadata": {},
   "outputs": [
    {
     "name": "stdout",
     "output_type": "stream",
     "text": [
      "32 "
     ]
    }
   ],
   "source": [
    "// Question 3 : somme des sous ensembles de 0 à 2^32\n",
    "uint s = 0;\n",
    "for (uint i = 0; i<32; i++) {\n",
    "    s += card(singleton(i));\n",
    "};\n",
    "printf(\"%d \", s);"
   ]
  },
  {
   "cell_type": "markdown",
   "id": "5f632007-4429-4a5e-8d76-e2d1a7f7b0d9",
   "metadata": {
    "tags": []
   },
   "source": [
    "## Bit de poids faible"
   ]
  },
  {
   "cell_type": "markdown",
   "id": "79d911ce-4b6b-47c2-9f75-c80d29aadbd0",
   "metadata": {
    "tags": [
     "exo"
    ]
   },
   "source": [
    "1. Si `x` est un entier positif, que permet d'obtenir l'instruction `x & (~x + 1)` ? On pourra essayer sur des exemples.  \n",
    "2. Montrer qu'on pourrait utiliser `x & -x` au lieu de `x & (~x + 1)` (c'est-à-dire que les deux instructions donnent la même chose), en sachant que `-x` est stocké par complément à 2 (voir cours à ce sujet)."
   ]
  },
  {
   "cell_type": "markdown",
   "id": "33c0bc78-d687-4e2a-9153-84046e51c5ee",
   "metadata": {},
   "source": [
    "`X & (~X + 1)` renvoie 2 exposant le premier bit égal à 1 de X"
   ]
  },
  {
   "cell_type": "markdown",
   "id": "0023148c-e581-47b4-a64b-718cc9f8114b",
   "metadata": {},
   "source": [
    "On pourrait utiliser `X & -X` à la place car le premier bit sera le même"
   ]
  }
 ],
 "metadata": {
  "kernelspec": {
   "display_name": "C++14",
   "language": "C++14",
   "name": "xcpp14"
  },
  "language_info": {
   "codemirror_mode": "text/x-c++src",
   "file_extension": ".cpp",
   "mimetype": "text/x-c++src",
   "name": "c++",
   "version": "14"
  }
 },
 "nbformat": 4,
 "nbformat_minor": 5
}
