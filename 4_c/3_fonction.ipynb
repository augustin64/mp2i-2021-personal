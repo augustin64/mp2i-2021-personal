{
 "cells": [
  {
   "cell_type": "markdown",
   "id": "d4e02f93-7034-4923-8e50-667f624f2586",
   "metadata": {},
   "source": [
    "# <center><a href='https://mybinder.org/v2/gh/fortierq/binder-mp2i/main?urlpath=git-pull%3Frepo%3Dhttps%253A%252F%252Fgithub.com%252Faugustin64%252Fmp2i-2021%26urlpath%3Dlab%252Ftree%252Fmp2i-2021%252Fpersonnal%252F4_c%252F3_fonction.ipynb%26branch%3Dmain'>Fonctions <img src=https://mybinder.org/badge.svg></a></center>\n",
    "\n",
    "Voici un exemple de fonction en C :"
   ]
  },
  {
   "cell_type": "code",
   "execution_count": 1,
   "id": "7b897c81-0579-4ff6-a5d4-5f003aa0f78b",
   "metadata": {
    "execution": {
     "iopub.execute_input": "2021-11-18T13:48:27.579956Z",
     "iopub.status.busy": "2021-11-18T13:48:27.578768Z",
     "iopub.status.idle": "2021-11-18T13:48:27.580566Z",
     "shell.execute_reply": "2021-11-18T13:48:27.579327Z"
    }
   },
   "outputs": [],
   "source": [
    "float aire_cercle(float r) {\n",
    "    return 3.14*r*r;\n",
    "}"
   ]
  },
  {
   "cell_type": "markdown",
   "id": "fdae2026-6ddf-4c7a-83bd-54d9c7dc348b",
   "metadata": {},
   "source": [
    "- `float aire_cercle` signifie que l'on définit une fonction qui s'appelle `aire_cercle` et dont le type de retour est `float`\n",
    "- `r` est l'argument de la fonction, de type `float`\n",
    "- les accolades délimitent le corps de la fonction (ce qui va être exécuté quand on l'appelle)\n",
    "- la valeur `3.14*r*r` est renvoyée par la fonction"
   ]
  },
  {
   "cell_type": "code",
   "execution_count": 2,
   "id": "d5fa1a53-b300-4fcc-b6c2-d749c140b9a6",
   "metadata": {
    "execution": {
     "iopub.execute_input": "2021-11-18T13:48:27.582684Z",
     "iopub.status.busy": "2021-11-18T13:48:27.581919Z",
     "iopub.status.idle": "2021-11-18T13:48:28.200397Z",
     "shell.execute_reply": "2021-11-18T13:48:28.198561Z"
    }
   },
   "outputs": [
    {
     "data": {
      "text/plain": [
       "3.14000f"
      ]
     },
     "execution_count": 2,
     "metadata": {},
     "output_type": "execute_result"
    }
   ],
   "source": [
    "aire_cercle(1.) // test de la fonction"
   ]
  },
  {
   "cell_type": "markdown",
   "id": "7d45dff1-dd1d-4474-bef3-4612e8f1b471",
   "metadata": {},
   "source": [
    "## Récursivité\n",
    "\n",
    "Il est possible de définir une fonction récursive, sans mot-clé supplémentaire :"
   ]
  },
  {
   "cell_type": "code",
   "execution_count": 3,
   "id": "c9273160-8137-4bdb-9bb7-e1bab25dc4f5",
   "metadata": {
    "tags": []
   },
   "outputs": [
    {
     "data": {
      "text/plain": [
       "1024"
      ]
     },
     "execution_count": 3,
     "metadata": {},
     "output_type": "execute_result"
    }
   ],
   "source": [
    "int expo(int a, int n) { // renvoie a**n\n",
    "    if(n == 0)\n",
    "        return 1; \n",
    "    int b = expo(a, n/2);\n",
    "    if(n % 2 == 0)\n",
    "        return b*b;\n",
    "    return a*b*b;\n",
    "}\n",
    "\n",
    "expo(2, 10)"
   ]
  },
  {
   "cell_type": "markdown",
   "id": "02a18568-9954-46fc-ac66-310077c10803",
   "metadata": {},
   "source": [
    "**Remarque** : Il semblerait qu'exécuter 2 fois la même fonction récursive pose des problèmes avec xeus-cling (le kernel C++ qu'on utilise pour Jupyter). Cliquer sur \"Restart the kernel\" si cela arrive."
   ]
  },
  {
   "cell_type": "markdown",
   "id": "340e5669-bebc-4685-af96-651bde6b0bed",
   "metadata": {
    "tags": [
     "exo"
    ]
   },
   "source": [
    "**Exercice** : Écrire l'algorithme d'Euclide en C."
   ]
  },
  {
   "cell_type": "markdown",
   "id": "4b6e79d1-ed5b-4551-a063-f3c8ce8fff9c",
   "metadata": {},
   "source": [
    "let rec pgcd a b =\n",
    "    if b = 0 then a\n",
    "    else pgcd b (a mod b);;"
   ]
  },
  {
   "cell_type": "code",
   "execution_count": 4,
   "id": "5b499240-1167-473d-aa83-eefc0814d66a",
   "metadata": {},
   "outputs": [],
   "source": [
    "int pgcd(int a, int b) {\n",
    "    if (b == 0)\n",
    "        return a;\n",
    "    else\n",
    "        return pgcd (b, a % b);\n",
    "};"
   ]
  },
  {
   "cell_type": "code",
   "execution_count": 6,
   "id": "bc6bc491-3be7-4398-8e98-a1ebc1219808",
   "metadata": {},
   "outputs": [
    {
     "data": {
      "text/plain": [
       "5"
      ]
     },
     "execution_count": 6,
     "metadata": {},
     "output_type": "execute_result"
    }
   ],
   "source": [
    "pgcd(5,15)"
   ]
  },
  {
   "cell_type": "code",
   "execution_count": null,
   "id": "eabff007-f93f-4418-8a21-2bdc242d2965",
   "metadata": {},
   "outputs": [],
   "source": []
  }
 ],
 "metadata": {
  "kernelspec": {
   "display_name": "C++14",
   "language": "C++14",
   "name": "xcpp14"
  },
  "language_info": {
   "codemirror_mode": "text/x-c++src",
   "file_extension": ".cpp",
   "mimetype": "text/x-c++src",
   "name": "c++",
   "version": "14"
  }
 },
 "nbformat": 4,
 "nbformat_minor": 5
}
