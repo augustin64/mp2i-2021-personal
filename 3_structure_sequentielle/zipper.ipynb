{
 "cells": [
  {
   "cell_type": "code",
   "execution_count": 10,
   "id": "8e4ed04a-3892-45fd-bb31-0d150e7af29e",
   "metadata": {},
   "outputs": [
    {
     "data": {
      "text/plain": [
       "type 'a zipper = { left : 'a list; right : 'a list; }\n"
      ]
     },
     "execution_count": 10,
     "metadata": {},
     "output_type": "execute_result"
    }
   ],
   "source": [
    "type 'a zipper = { left : 'a list; right : 'a list };;"
   ]
  },
  {
   "cell_type": "code",
   "execution_count": 11,
   "id": "3089c2f6-6577-42c5-b8a4-bb8192a493ed",
   "metadata": {},
   "outputs": [
    {
     "data": {
      "text/plain": [
       "val z : int zipper = {left = [2; 1; 0]; right = [3; 4; 5; 6]}\n"
      ]
     },
     "execution_count": 11,
     "metadata": {},
     "output_type": "execute_result"
    }
   ],
   "source": [
    "let z = {\n",
    "    left = [2;1;0];\n",
    "    right = [3;4;5;6]\n",
    "};;"
   ]
  },
  {
   "cell_type": "code",
   "execution_count": 12,
   "id": "a9842a4d-800d-4c8e-9ffc-cf8bf4d2575c",
   "metadata": {},
   "outputs": [
    {
     "data": {
      "text/plain": [
       "val move_right : 'a zipper -> 'a zipper = <fun>\n"
      ]
     },
     "execution_count": 12,
     "metadata": {},
     "output_type": "execute_result"
    },
    {
     "data": {
      "text/plain": [
       "val move_left : 'a zipper -> 'a zipper = <fun>\n"
      ]
     },
     "execution_count": 12,
     "metadata": {},
     "output_type": "execute_result"
    }
   ],
   "source": [
    "let move_right z = match z.right with\n",
    "    | e::r -> { left = e::z.left; right = r }\n",
    "    | [] -> failwith \"Déjà à droite\";;\n",
    "    \n",
    "let move_left z = match z.left with\n",
    "    | e::l -> { left = l; right = e::z.right }\n",
    "    | [] -> failwith \"Déjà à gauche\";;\n"
   ]
  },
  {
   "cell_type": "code",
   "execution_count": 22,
   "id": "5df6a2b2-8187-4846-b6c0-c326c5dcf192",
   "metadata": {},
   "outputs": [
    {
     "data": {
      "text/plain": [
       "val move : int -> 'a zipper -> 'a zipper = <fun>\n"
      ]
     },
     "execution_count": 22,
     "metadata": {},
     "output_type": "execute_result"
    }
   ],
   "source": [
    "let rec move n z =\n",
    "    if n = 0 then z\n",
    "    else if n > 0 then\n",
    "        let z1 = move (n-1) z in\n",
    "        move_right z1\n",
    "    else\n",
    "        let z1 = move (n+1) z in\n",
    "        move_left z1;;"
   ]
  },
  {
   "cell_type": "code",
   "execution_count": 23,
   "id": "aad4d5e2-8442-4d04-b8e1-e3474e54d65c",
   "metadata": {},
   "outputs": [
    {
     "data": {
      "text/plain": [
       "val supprimer : 'a zipper -> 'a zipper = <fun>\n"
      ]
     },
     "execution_count": 23,
     "metadata": {},
     "output_type": "execute_result"
    }
   ],
   "source": [
    "let supprimer z = match z.right with\n",
    "    | e::q -> { left = z.left; right = q }\n",
    "    | [] -> failwith \"pas d'élément à supprimer\";;"
   ]
  },
  {
   "cell_type": "code",
   "execution_count": 27,
   "id": "bfee97c8-a3a8-4c8e-8c54-7df4f680850b",
   "metadata": {},
   "outputs": [
    {
     "data": {
      "text/plain": [
       "val ajouter : 'a -> 'a zipper -> 'a zipper = <fun>\n"
      ]
     },
     "execution_count": 27,
     "metadata": {},
     "output_type": "execute_result"
    }
   ],
   "source": [
    "let ajouter e z = { left = z.left; right = e::z.right};;"
   ]
  },
  {
   "cell_type": "code",
   "execution_count": 30,
   "id": "6773311f-7fbf-4e4f-b828-c0668ed77d4c",
   "metadata": {},
   "outputs": [
    {
     "data": {
      "text/plain": [
       "val convert : 'a zipper -> 'a list = <fun>\n"
      ]
     },
     "execution_count": 30,
     "metadata": {},
     "output_type": "execute_result"
    }
   ],
   "source": [
    "let convert z = (List.rev z.left) @ z.right;;"
   ]
  }
 ],
 "metadata": {
  "kernelspec": {
   "display_name": "OCaml default",
   "language": "OCaml",
   "name": "ocaml-jupyter"
  },
  "language_info": {
   "codemirror_mode": "text/x-ocaml",
   "file_extension": ".ml",
   "mimetype": "text/x-ocaml",
   "name": "OCaml",
   "nbconverter_exporter": null,
   "pygments_lexer": "OCaml",
   "version": "4.08.1"
  }
 },
 "nbformat": 4,
 "nbformat_minor": 5
}
