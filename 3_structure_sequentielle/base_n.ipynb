{
 "cells": [
  {
   "cell_type": "code",
   "execution_count": 7,
   "id": "c9c1a031-ad78-4c26-b881-180a0764f489",
   "metadata": {},
   "outputs": [
    {
     "data": {
      "text/plain": [
       "val to_base10 : int -> int list -> int = <fun>\n"
      ]
     },
     "execution_count": 7,
     "metadata": {},
     "output_type": "execute_result"
    }
   ],
   "source": [
    "let rec to_base10 b l = match l with\n",
    "    | [] -> 0\n",
    "    | e::q -> e + b*(to_base10 b q)"
   ]
  },
  {
   "cell_type": "code",
   "execution_count": 8,
   "id": "56846bb6-0d19-4ad1-a8cf-9e27c52f3d13",
   "metadata": {},
   "outputs": [
    {
     "data": {
      "text/plain": [
       "- : int = 5\n"
      ]
     },
     "execution_count": 8,
     "metadata": {},
     "output_type": "execute_result"
    }
   ],
   "source": [
    "to_base10 2 [1;0;1]"
   ]
  },
  {
   "cell_type": "code",
   "execution_count": 9,
   "id": "40590d4d-0b7b-4e14-a32a-0091c3c242df",
   "metadata": {},
   "outputs": [
    {
     "data": {
      "text/plain": [
       "val from_base10 : int -> int -> int list = <fun>\n"
      ]
     },
     "execution_count": 9,
     "metadata": {},
     "output_type": "execute_result"
    }
   ],
   "source": [
    "let rec from_base10 b n =\n",
    "    if n = 0 then []\n",
    "        else (n mod b)::from_base10 b (n / b);;"
   ]
  }
 ],
 "metadata": {
  "kernelspec": {
   "display_name": "OCaml default",
   "language": "OCaml",
   "name": "ocaml-jupyter"
  },
  "language_info": {
   "codemirror_mode": "text/x-ocaml",
   "file_extension": ".ml",
   "mimetype": "text/x-ocaml",
   "name": "OCaml",
   "nbconverter_exporter": null,
   "pygments_lexer": "OCaml",
   "version": "4.08.1"
  }
 },
 "nbformat": 4,
 "nbformat_minor": 5
}
