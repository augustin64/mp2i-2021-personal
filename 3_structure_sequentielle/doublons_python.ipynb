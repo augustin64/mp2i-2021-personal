{
 "cells": [
  {
   "cell_type": "code",
   "execution_count": 5,
   "id": "5186fcee-53ff-425b-9e62-c62636aab8b3",
   "metadata": {},
   "outputs": [
    {
     "data": {
      "text/plain": [
       "set()"
      ]
     },
     "execution_count": 5,
     "metadata": {},
     "output_type": "execute_result"
    }
   ],
   "source": [
    "set()"
   ]
  },
  {
   "cell_type": "code",
   "execution_count": 6,
   "id": "b2e494dd-7067-4356-b660-40c90a6fefb8",
   "metadata": {},
   "outputs": [],
   "source": [
    "def doublons(L):\n",
    "    s = set()\n",
    "    for e in L:\n",
    "        if e in s:\n",
    "            return True\n",
    "        s.add(e)\n",
    "    return False"
   ]
  },
  {
   "cell_type": "code",
   "execution_count": 7,
   "id": "cc8f75aa-8233-4138-bb59-a7d43d741e05",
   "metadata": {},
   "outputs": [
    {
     "data": {
      "text/plain": [
       "True"
      ]
     },
     "execution_count": 7,
     "metadata": {},
     "output_type": "execute_result"
    }
   ],
   "source": [
    "doublons([1,4,6,2,6])"
   ]
  },
  {
   "cell_type": "code",
   "execution_count": 8,
   "id": "50ab0d64-7415-4ddb-93ea-1f0fcc905e07",
   "metadata": {},
   "outputs": [
    {
     "data": {
      "text/plain": [
       "False"
      ]
     },
     "execution_count": 8,
     "metadata": {},
     "output_type": "execute_result"
    }
   ],
   "source": [
    "doublons([1,4,2,6])"
   ]
  }
 ],
 "metadata": {
  "kernelspec": {
   "display_name": "Python 3 (ipykernel)",
   "language": "python",
   "name": "python3"
  },
  "language_info": {
   "codemirror_mode": {
    "name": "ipython",
    "version": 3
   },
   "file_extension": ".py",
   "mimetype": "text/x-python",
   "name": "python",
   "nbconvert_exporter": "python",
   "pygments_lexer": "ipython3",
   "version": "3.9.6"
  }
 },
 "nbformat": 4,
 "nbformat_minor": 5
}
