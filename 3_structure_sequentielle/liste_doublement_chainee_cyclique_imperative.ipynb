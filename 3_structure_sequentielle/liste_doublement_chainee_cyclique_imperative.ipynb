{
 "cells": [
  {
   "cell_type": "markdown",
   "id": "a52edf80-0ad1-4209-acc7-1dd26a5433e5",
   "metadata": {},
   "source": [
    "# <center><a href='https://mybinder.org/v2/gh/fortierq/binder-mp2i/main?urlpath=git-pull%3Frepo%3Dhttps%253A%252F%252Fgithub.com%252Faugustin64%252Fmp2i-2021%26urlpath%3Dlab%252Ftree%252Fmp2i-2021%252Fpersonnal%252F3_structure_sequentielle%252Fliste_doublement_chainee_cyclique_imperative.ipynb%26branch%3Dmain'>II Liste doublement chaînée cyclique impérative <img src=https://mybinder.org/badge.svg></a></center>\n",
    "\n",
    "On pourrait définir une liste doublement chaînée en utilisant un type contenant un prédécesseur prev, un successeur\n",
    "next et un élément elem.  \n",
    "Cependant il faudrait aussi gérer les extrémités, ce qui est un peu compliqué (il faut traiter le cas où il n’y a pas de\n",
    "prédécesseur ou successeur).  \n",
    "On va utiliser à la place une liste doublement chaînée cyclique, où le prédécesseur du 1er élément est le dernier\n",
    "élément:"
   ]
  },
  {
   "cell_type": "code",
   "execution_count": 2,
   "id": "f1672e7a-6ada-4606-be21-d85bc93ca636",
   "metadata": {},
   "outputs": [
    {
     "data": {
      "text/plain": [
       "type 'a l2c = { elem : 'a; mutable prev : 'a l2c; mutable next : 'a l2c; }\n"
      ]
     },
     "execution_count": 2,
     "metadata": {},
     "output_type": "execute_result"
    }
   ],
   "source": [
    "type 'a l2c = {elem : 'a; mutable prev : 'a l2c; mutable next : 'a l2c};;"
   ]
  },
  {
   "cell_type": "markdown",
   "id": "78bac73a-8007-4985-bf98-7803e2af7666",
   "metadata": {},
   "source": [
    "### Fonction create"
   ]
  },
  {
   "cell_type": "code",
   "execution_count": 3,
   "id": "573ea2c8-17e9-42f4-a200-048e2a0fdee5",
   "metadata": {},
   "outputs": [
    {
     "data": {
      "text/plain": [
       "val create : 'a -> 'a l2c = <fun>\n"
      ]
     },
     "execution_count": 3,
     "metadata": {},
     "output_type": "execute_result"
    }
   ],
   "source": [
    "let create e =\n",
    "    let rec l = {elem = e; prev = l; next = l} in\n",
    "    l;;"
   ]
  },
  {
   "cell_type": "markdown",
   "id": "0a02c760-f31c-4dc2-b111-ac9a68b0c855",
   "metadata": {},
   "source": [
    "### Fonctions add et del"
   ]
  },
  {
   "cell_type": "code",
   "execution_count": 4,
   "id": "93a07573-bd5a-4226-9f4a-cdaf7ba93116",
   "metadata": {},
   "outputs": [
    {
     "data": {
      "text/plain": [
       "val add : 'a -> 'a l2c -> unit = <fun>\n"
      ]
     },
     "execution_count": 4,
     "metadata": {},
     "output_type": "execute_result"
    }
   ],
   "source": [
    "let add e l = \n",
    "    let bloc = {elem = e; next = l.next; prev = l} in\n",
    "    l.next.prev <- bloc;\n",
    "    l.next <- bloc;;"
   ]
  },
  {
   "cell_type": "code",
   "execution_count": 5,
   "id": "44775681-2f94-4bdb-8b3b-158729c44f71",
   "metadata": {},
   "outputs": [
    {
     "data": {
      "text/plain": [
       "val del : 'a l2c -> unit = <fun>\n"
      ]
     },
     "execution_count": 5,
     "metadata": {},
     "output_type": "execute_result"
    }
   ],
   "source": [
    "let del l =\n",
    "    l.next.prev <- l.prev;\n",
    "    l.prev.next <- l.next;;"
   ]
  },
  {
   "cell_type": "markdown",
   "id": "fdb8bcdb-97b5-41a3-8125-9c359d719e10",
   "metadata": {},
   "source": [
    "### Fonction length"
   ]
  },
  {
   "cell_type": "code",
   "execution_count": 6,
   "id": "93d17a60-5d20-4211-ab2c-e80b9205f698",
   "metadata": {},
   "outputs": [
    {
     "data": {
      "text/plain": [
       "val length : 'a l2c -> int = <fun>\n"
      ]
     },
     "execution_count": 6,
     "metadata": {},
     "output_type": "execute_result"
    }
   ],
   "source": [
    "let length l = \n",
    "    let bloc = ref l in\n",
    "    let length = ref 1 in\n",
    "    while l == !bloc do\n",
    "        bloc := !bloc.next;\n",
    "        incr length;\n",
    "    done;!length;;"
   ]
  },
  {
   "cell_type": "markdown",
   "id": "ece4e540-a6ec-4aba-a4bc-a39c2e6cf864",
   "metadata": {},
   "source": [
    "### Fonction l2c (correction + mise en forme)"
   ]
  },
  {
   "cell_type": "code",
   "execution_count": 7,
   "id": "5654e880-32af-4b41-aaf7-e08dc59eabcd",
   "metadata": {},
   "outputs": [
    {
     "data": {
      "text/plain": [
       "val print_l2c : int l2c -> unit = <fun>\n"
      ]
     },
     "execution_count": 7,
     "metadata": {},
     "output_type": "execute_result"
    }
   ],
   "source": [
    "let print_l2c l =\n",
    "    print_newline ();\n",
    "    print_string (\"[ \");\n",
    "    let l_cur = ref l in\n",
    "    while !l_cur.next != l do\n",
    "        print_int !l_cur.elem;\n",
    "        print_string (\"; \");\n",
    "        l_cur := !l_cur.next;\n",
    "    done;\n",
    "    print_int l.next.elem; print_string (\"]\"); print_newline ();;"
   ]
  },
  {
   "cell_type": "code",
   "execution_count": 8,
   "id": "d53ac626-9a36-491f-a218-6b85d08181a7",
   "metadata": {},
   "outputs": [
    {
     "data": {
      "text/plain": [
       "val l2c : int l2c = {elem = 1; prev = <cycle>; next = <cycle>}\n"
      ]
     },
     "execution_count": 8,
     "metadata": {},
     "output_type": "execute_result"
    },
    {
     "data": {
      "text/plain": [
       "- : unit = ()\n"
      ]
     },
     "execution_count": 8,
     "metadata": {},
     "output_type": "execute_result"
    },
    {
     "name": "stdout",
     "output_type": "stream",
     "text": [
      "\n",
      "[ 1; 3]\n"
     ]
    },
    {
     "data": {
      "text/plain": [
       "- : unit = ()\n"
      ]
     },
     "execution_count": 8,
     "metadata": {},
     "output_type": "execute_result"
    }
   ],
   "source": [
    "let l2c = create 1;;\n",
    "add 3 l2c;;\n",
    "print_l2c l2c;;"
   ]
  },
  {
   "cell_type": "markdown",
   "id": "f448f0dd-e85c-4432-88ad-501dc5d3ea7e",
   "metadata": {},
   "source": [
    "### Fonction mem (vérifier si la l2c contient un élement)"
   ]
  },
  {
   "cell_type": "code",
   "execution_count": 9,
   "id": "3b120b2d-3a22-4d2c-a662-b8ba61e02c02",
   "metadata": {},
   "outputs": [
    {
     "data": {
      "text/plain": [
       "val mem : 'a -> 'a l2c -> bool = <fun>\n"
      ]
     },
     "execution_count": 9,
     "metadata": {},
     "output_type": "execute_result"
    }
   ],
   "source": [
    "let mem e l = \n",
    "    let bloc = ref l in\n",
    "    let valeur = ref (!bloc.elem = e) in\n",
    "    while l == !bloc do\n",
    "        bloc := !bloc.next;\n",
    "        valeur := !valeur || !bloc.elem = e;\n",
    "    done;!valeur;;"
   ]
  },
  {
   "cell_type": "code",
   "execution_count": 10,
   "id": "eaacbff0-80c9-4c1d-b952-ab9a24874d78",
   "metadata": {},
   "outputs": [
    {
     "data": {
      "text/plain": [
       "- : bool = true\n"
      ]
     },
     "execution_count": 10,
     "metadata": {},
     "output_type": "execute_result"
    }
   ],
   "source": [
    "mem 1 l2c;;"
   ]
  },
  {
   "cell_type": "code",
   "execution_count": 11,
   "id": "f4946683-9f1d-4f54-bef6-ecdc1aff56ba",
   "metadata": {},
   "outputs": [
    {
     "data": {
      "text/plain": [
       "- : bool = true\n"
      ]
     },
     "execution_count": 11,
     "metadata": {},
     "output_type": "execute_result"
    }
   ],
   "source": [
    "mem 3 l2c;;"
   ]
  },
  {
   "cell_type": "markdown",
   "id": "82a48718-9c5c-4e24-8635-367000329696",
   "metadata": {},
   "source": [
    "### Fonction fusion de deux l2c"
   ]
  },
  {
   "cell_type": "code",
   "execution_count": 12,
   "id": "35fe24b2-f8aa-4149-b550-eefd41494f41",
   "metadata": {},
   "outputs": [
    {
     "data": {
      "text/plain": [
       "val fusion : 'a l2c -> 'a l2c -> unit = <fun>\n"
      ]
     },
     "execution_count": 12,
     "metadata": {},
     "output_type": "execute_result"
    }
   ],
   "source": [
    "let fusion l1 l2 =\n",
    "    let next = l1.next in\n",
    "    l1.next <- l2.next;\n",
    "    l2.next <- next;\n",
    "    l2.next.prev <- l2;\n",
    "    l1.next.prev <- l1;;"
   ]
  },
  {
   "cell_type": "code",
   "execution_count": 16,
   "id": "a0e084fb-a053-488d-826e-3a44281ad9c8",
   "metadata": {},
   "outputs": [
    {
     "data": {
      "text/plain": [
       "val l1 : int l2c = {elem = 3; prev = <cycle>; next = <cycle>}\n"
      ]
     },
     "execution_count": 16,
     "metadata": {},
     "output_type": "execute_result"
    },
    {
     "data": {
      "text/plain": [
       "- : unit = ()\n"
      ]
     },
     "execution_count": 16,
     "metadata": {},
     "output_type": "execute_result"
    },
    {
     "data": {
      "text/plain": [
       "val l2 : int l2c = {elem = 4; prev = <cycle>; next = <cycle>}\n"
      ]
     },
     "execution_count": 16,
     "metadata": {},
     "output_type": "execute_result"
    },
    {
     "data": {
      "text/plain": [
       "- : unit = ()\n"
      ]
     },
     "execution_count": 16,
     "metadata": {},
     "output_type": "execute_result"
    }
   ],
   "source": [
    "let l1 = create 3;;\n",
    "add 1 l1;;\n",
    "let l2 = create 4;;\n",
    "fusion l1 l2;;"
   ]
  },
  {
   "cell_type": "code",
   "execution_count": 19,
   "id": "444e70df-8bff-425a-bdde-2835b5a03f64",
   "metadata": {},
   "outputs": [
    {
     "data": {
      "text/plain": [
       "- : int l2c =\n",
       "{elem = 3;\n",
       " prev =\n",
       "  {elem = 1; prev = {elem = 4; prev = <cycle>; next = <cycle>};\n",
       "   next = <cycle>};\n",
       " next =\n",
       "  {elem = 4; prev = <cycle>;\n",
       "   next = {elem = 1; prev = <cycle>; next = <cycle>}}}\n"
      ]
     },
     "execution_count": 19,
     "metadata": {},
     "output_type": "execute_result"
    }
   ],
   "source": [
    "l1"
   ]
  },
  {
   "cell_type": "code",
   "execution_count": null,
   "id": "4f520dfa-5af6-4f12-8151-c6d38d58c40b",
   "metadata": {},
   "outputs": [],
   "source": []
  }
 ],
 "metadata": {
  "kernelspec": {
   "display_name": "OCaml default",
   "language": "OCaml",
   "name": "ocaml-jupyter"
  },
  "language_info": {
   "codemirror_mode": "text/x-ocaml",
   "file_extension": ".ml",
   "mimetype": "text/x-ocaml",
   "name": "OCaml",
   "nbconverter_exporter": null,
   "pygments_lexer": "OCaml",
   "version": "4.08.1"
  }
 },
 "nbformat": 4,
 "nbformat_minor": 5
}
