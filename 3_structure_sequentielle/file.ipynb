{
 "cells": [
  {
   "cell_type": "code",
   "execution_count": 1,
   "id": "4f7e8b55-803c-4a62-bbb8-0063362e8a9d",
   "metadata": {},
   "outputs": [
    {
     "data": {
      "text/plain": [
       "type 'a file = {\n",
       "  tab : 'a array;\n",
       "  mutable deb : int;\n",
       "  mutable fin : int;\n",
       "  mutable vide : bool;\n",
       "}\n"
      ]
     },
     "execution_count": 1,
     "metadata": {},
     "output_type": "execute_result"
    }
   ],
   "source": [
    "type 'a file={tab: 'a array ; mutable deb: int ; mutable fin: int ; mutable vide: bool}"
   ]
  },
  {
   "cell_type": "code",
   "execution_count": 52,
   "id": "2f80aa37-aad9-46ee-bc84-1eee7c4708cc",
   "metadata": {},
   "outputs": [
    {
     "data": {
      "text/plain": [
       "val file1 : int file =\n",
       "  {tab = [|12; 8; 7; 2; 5; 3; 1; 16; 3; 4; 0; 1|]; deb = 9; fin = 2;\n",
       "   vide = false}\n"
      ]
     },
     "execution_count": 52,
     "metadata": {},
     "output_type": "execute_result"
    },
    {
     "data": {
      "text/plain": [
       "val file2 : int file =\n",
       "  {tab = [|12; 8; 7; 2; 5; 3; 1; 16; 3; 4; 0; 1|]; deb = 2; fin = 2;\n",
       "   vide = true}\n"
      ]
     },
     "execution_count": 52,
     "metadata": {},
     "output_type": "execute_result"
    }
   ],
   "source": [
    "(*Question 0*)\n",
    "\n",
    "let file1 = {\n",
    "    tab=[|12;8;7;2;5;3;1;16;3;4;0;1|]; \n",
    "    deb=9; \n",
    "    fin=2; \n",
    "    vide=false\n",
    "};;\n",
    "\n",
    "let file2 = {\n",
    "    tab=[|12;8;7;2;5;3;1;16;3;4;0;1|]; \n",
    "    deb=2; \n",
    "    fin=2; \n",
    "    vide=true\n",
    "};;"
   ]
  },
  {
   "cell_type": "code",
   "execution_count": 50,
   "id": "3a0c5f48-f8cb-4237-9131-068a9f675d55",
   "metadata": {},
   "outputs": [
    {
     "data": {
      "text/plain": [
       "val ajoute : 'a file -> 'a -> unit = <fun>\n"
      ]
     },
     "execution_count": 50,
     "metadata": {},
     "output_type": "execute_result"
    }
   ],
   "source": [
    "(*Question 1*)\n",
    "let ajoute f x =\n",
    "    if f.deb = f.fin && not f.vide then\n",
    "        failwith \"File pleine\"\n",
    "    else (f.tab.(f.fin) <- x; \n",
    "        f.fin <- (f.fin + 1) mod (Array.length f.tab);\n",
    "        f.vide <- false);;"
   ]
  },
  {
   "cell_type": "code",
   "execution_count": 53,
   "id": "49106f0a-01f6-4f98-a269-83264c56cfa1",
   "metadata": {},
   "outputs": [
    {
     "data": {
      "text/plain": [
       "- : unit = ()\n"
      ]
     },
     "execution_count": 53,
     "metadata": {},
     "output_type": "execute_result"
    }
   ],
   "source": [
    "ajoute file2 1;;"
   ]
  },
  {
   "cell_type": "code",
   "execution_count": 54,
   "id": "9b08f73b-8882-4c52-9d85-b3c3cc240b9c",
   "metadata": {},
   "outputs": [
    {
     "data": {
      "text/plain": [
       "- : int file =\n",
       "{tab = [|12; 8; 1; 2; 5; 3; 1; 16; 3; 4; 0; 1|]; deb = 2; fin = 3;\n",
       " vide = false}\n"
      ]
     },
     "execution_count": 54,
     "metadata": {},
     "output_type": "execute_result"
    }
   ],
   "source": [
    "file2;;"
   ]
  },
  {
   "cell_type": "code",
   "execution_count": 113,
   "id": "995f5986-c9c9-44ae-b8a6-9911f280d679",
   "metadata": {},
   "outputs": [
    {
     "data": {
      "text/plain": [
       "val retire : 'a file -> 'a = <fun>\n"
      ]
     },
     "execution_count": 113,
     "metadata": {},
     "output_type": "execute_result"
    }
   ],
   "source": [
    "(*Question 2*)\n",
    "let retire f =\n",
    "    if f.vide then\n",
    "        failwith \"File vide\"\n",
    "    else f.deb <- ((f.deb + 1) mod (Array.length f.tab));\n",
    "    if f.deb = f.fin then f.vide <- true;\n",
    "    f.tab.((f.deb-1) mod (Array.length f.tab));;\n",
    "        \n",
    "            "
   ]
  },
  {
   "cell_type": "code",
   "execution_count": 114,
   "id": "d4f16044-84f1-420d-835d-4d0bf31b4e85",
   "metadata": {},
   "outputs": [
    {
     "ename": "error",
     "evalue": "runtime_error",
     "output_type": "error",
     "traceback": [
      "\u001b[31mException: Failure \"File vide\".\nRaised at file \"stdlib.ml\", line 29, characters 22-33\nCalled from file \"[113]\", line 4, characters 8-28\nCalled from file \"toplevel/toploop.ml\", line 208, characters 17-27\n\u001b[0m"
     ]
    }
   ],
   "source": [
    "retire file1;;"
   ]
  },
  {
   "cell_type": "code",
   "execution_count": 115,
   "id": "81da9c2a-a748-4981-89d6-3d703ffd139f",
   "metadata": {},
   "outputs": [
    {
     "data": {
      "text/plain": [
       "- : int file =\n",
       "{tab = [|2; 2; 2; 2; 2; 2; 2; 2; 2; 2; 2; 2|]; deb = 0; fin = 0; vide = true}\n"
      ]
     },
     "execution_count": 115,
     "metadata": {},
     "output_type": "execute_result"
    }
   ],
   "source": [
    "file1;;"
   ]
  },
  {
   "cell_type": "code",
   "execution_count": 116,
   "id": "a9ab05e3-f9ed-49a8-8d7a-96654d7a5ce9",
   "metadata": {},
   "outputs": [
    {
     "name": "stderr",
     "output_type": "stream",
     "text": [
      "File \"[116]\", line 1, characters 19-31:\n",
      "1 | for _ = 0 to 10 do retire file1 done\n",
      "                       ^^^^^^^^^^^^\n",
      "Warning 10: this expression should have type unit.\n",
      "File \"[116]\", line 1, characters 19-31:\n",
      "1 | for _ = 0 to 10 do retire file1 done\n",
      "                       ^^^^^^^^^^^^\n",
      "Warning 10: this expression should have type unit.\n"
     ]
    },
    {
     "ename": "error",
     "evalue": "runtime_error",
     "output_type": "error",
     "traceback": [
      "\u001b[31mException: Failure \"File vide\".\nRaised at file \"stdlib.ml\", line 29, characters 22-33\nCalled from file \"[113]\", line 4, characters 8-28\nCalled from unknown location\nCalled from file \"toplevel/toploop.ml\", line 208, characters 17-27\n\u001b[0m"
     ]
    }
   ],
   "source": [
    "for _ = 0 to 10 do retire file1 done"
   ]
  },
  {
   "cell_type": "code",
   "execution_count": 117,
   "id": "70b8051b-84ed-4798-acf6-0313a0ddeb19",
   "metadata": {},
   "outputs": [
    {
     "data": {
      "text/plain": [
       "- : int file =\n",
       "{tab = [|2; 2; 2; 2; 2; 2; 2; 2; 2; 2; 2; 2|]; deb = 0; fin = 0; vide = true}\n"
      ]
     },
     "execution_count": 117,
     "metadata": {},
     "output_type": "execute_result"
    }
   ],
   "source": [
    "file1;;"
   ]
  },
  {
   "cell_type": "code",
   "execution_count": 131,
   "id": "eb53a4af-1157-41aa-913b-227cee5b2202",
   "metadata": {},
   "outputs": [
    {
     "data": {
      "text/plain": [
       "- : unit = ()\n"
      ]
     },
     "execution_count": 131,
     "metadata": {},
     "output_type": "execute_result"
    },
    {
     "ename": "error",
     "evalue": "runtime_error",
     "output_type": "error",
     "traceback": [
      "\u001b[31mException: Invalid_argument \"index out of bounds\".\nRaised by primitive operation at unknown location\nCalled from file \"toplevel/toploop.ml\", line 208, characters 17-27\n\u001b[0m"
     ]
    }
   ],
   "source": [
    "ajoute file1 2;;\n",
    "retire file1;;"
   ]
  },
  {
   "cell_type": "code",
   "execution_count": 119,
   "id": "ceba950f-2829-4bd0-8a21-378a57776c0f",
   "metadata": {},
   "outputs": [
    {
     "ename": "error",
     "evalue": "runtime_error",
     "output_type": "error",
     "traceback": [
      "\u001b[31mException: Failure \"File vide\".\nRaised at file \"stdlib.ml\", line 29, characters 22-33\nCalled from file \"[113]\", line 4, characters 8-28\nCalled from file \"toplevel/toploop.ml\", line 208, characters 17-27\n\u001b[0m"
     ]
    }
   ],
   "source": [
    "retire file1"
   ]
  },
  {
   "cell_type": "code",
   "execution_count": 132,
   "id": "856474e8-b940-4d31-b01c-7385ce0d4c01",
   "metadata": {},
   "outputs": [
    {
     "data": {
      "text/plain": [
       "- : int file =\n",
       "{tab = [|2; 2; 2; 2; 2; 2; 2; 2; 2; 2; 2; 2|]; deb = 0; fin = 0; vide = true}\n"
      ]
     },
     "execution_count": 132,
     "metadata": {},
     "output_type": "execute_result"
    },
    {
     "ename": "interrupt",
     "evalue": "intterupt",
     "output_type": "error",
     "traceback": [
      "\u001b[31mException: Sys.Break.\u001b[0m"
     ]
    }
   ],
   "source": [
    "file1"
   ]
  },
  {
   "cell_type": "code",
   "execution_count": null,
   "id": "07306208-c34c-49fc-922f-0131b121c6df",
   "metadata": {},
   "outputs": [],
   "source": []
  },
  {
   "cell_type": "code",
   "execution_count": null,
   "id": "fbd789da-70bd-4cab-8cf1-4ee3f9e75d52",
   "metadata": {},
   "outputs": [],
   "source": []
  }
 ],
 "metadata": {
  "kernelspec": {
   "display_name": "OCaml default",
   "language": "OCaml",
   "name": "ocaml-jupyter"
  },
  "language_info": {
   "codemirror_mode": "text/x-ocaml",
   "file_extension": ".ml",
   "mimetype": "text/x-ocaml",
   "name": "OCaml",
   "nbconverter_exporter": null,
   "pygments_lexer": "OCaml",
   "version": "4.08.1"
  }
 },
 "nbformat": 4,
 "nbformat_minor": 5
}
