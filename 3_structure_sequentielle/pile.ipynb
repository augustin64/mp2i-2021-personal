{
 "cells": [
  {
   "cell_type": "code",
   "execution_count": null,
   "id": "22dbec64-604e-4734-9141-2de795df15bf",
   "metadata": {},
   "outputs": [],
   "source": [
    "let s = Stack.create()"
   ]
  },
  {
   "cell_type": "code",
   "execution_count": null,
   "id": "76da393b-384a-4f34-86b5-b22eb5d477b2",
   "metadata": {},
   "outputs": [],
   "source": [
    "Stack.push 2 s"
   ]
  },
  {
   "cell_type": "code",
   "execution_count": null,
   "id": "33cb6f00-e6c6-4100-8656-ca543691c16c",
   "metadata": {},
   "outputs": [],
   "source": [
    "Stack.pop s"
   ]
  },
  {
   "cell_type": "code",
   "execution_count": 22,
   "id": "148d3d4a-0d51-484e-bedc-7e81133b0859",
   "metadata": {
    "tags": []
   },
   "outputs": [
    {
     "data": {
      "text/plain": [
       "val hanoi : int -> unit = <fun>\n"
      ]
     },
     "execution_count": 22,
     "metadata": {},
     "output_type": "execute_result"
    },
    {
     "data": {
      "text/plain": [
       "- : unit = ()\n"
      ]
     },
     "execution_count": 22,
     "metadata": {},
     "output_type": "execute_result"
    },
    {
     "name": "stdout",
     "output_type": "stream",
     "text": [
      "0 -> 2\n",
      "1 -> 2\n",
      "1 -> 0\n",
      "0 -> 2\n",
      "2 -> 1\n",
      "0 -> 1\n",
      "0 -> 2\n",
      "\n"
     ]
    },
    {
     "data": {
      "text/plain": [
       "- : unit = ()\n"
      ]
     },
     "execution_count": 22,
     "metadata": {},
     "output_type": "execute_result"
    }
   ],
   "source": [
    "let hanoi n =\n",
    "    let p = Stack.create() in\n",
    "    Stack.push (n, 0, 2) p;\n",
    "    while not (Stack.is_empty p) do\n",
    "        let k, i, j = Stack.pop p in\n",
    "        let tige_inter = 3 - i -j in\n",
    "        if k <> 1\n",
    "        then (Stack.push (k-1, i, tige_inter) p;\n",
    "            Stack.push (1, i, j) p;\n",
    "            Stack.push (k-1, tige_inter, j) p)\n",
    "        else (print_string((string_of_int i)^\" -> \"^(string_of_int j)^\"\\n\"))\n",
    "    done;;\n",
    "    \n",
    "hanoi 3;;\n",
    "print_newline ();\n",
    "(* Complexité en 2^n -1*)"
   ]
  },
  {
   "cell_type": "code",
   "execution_count": null,
   "id": "2a232ff3-9cc1-492a-bd22-3f33c81c6332",
   "metadata": {},
   "outputs": [],
   "source": [
    "let rec hanoi n tige1 tige2 =\n",
    "  if n = 0 then () (* aucun déplacement à faire *)\n",
    "  else (let tige_intermediaire = 3 - tige1 - tige2 in (* on utilise le fait que la somme des 3 tiges vaut 3 *)\n",
    "        hanoi (n - 1) tige1 tige_intermediaire;\n",
    "        print_string ((string_of_int tige1)^\" -> \"^(string_of_int tige2)^\"\\n\");\n",
    "        hanoi (n - 1) tige_intermediaire tige2) in\n",
    "hanoi 3 0 2;\n",
    "print_newline ();;"
   ]
  },
  {
   "cell_type": "code",
   "execution_count": null,
   "id": "3adc68aa-98eb-493d-9299-672fb7ce184b",
   "metadata": {},
   "outputs": [],
   "source": []
  }
 ],
 "metadata": {
  "kernelspec": {
   "display_name": "OCaml default",
   "language": "OCaml",
   "name": "ocaml-jupyter"
  },
  "language_info": {
   "codemirror_mode": "text/x-ocaml",
   "file_extension": ".ml",
   "mimetype": "text/x-ocaml",
   "name": "OCaml",
   "nbconverter_exporter": null,
   "pygments_lexer": "OCaml",
   "version": "4.08.1"
  }
 },
 "nbformat": 4,
 "nbformat_minor": 5
}
