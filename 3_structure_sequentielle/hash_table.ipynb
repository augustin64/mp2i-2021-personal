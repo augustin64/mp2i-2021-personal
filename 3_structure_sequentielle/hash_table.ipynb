{
 "cells": [
  {
   "cell_type": "code",
   "execution_count": 1,
   "id": "6bf236aa-2038-417d-9492-866a744c507a",
   "metadata": {},
   "outputs": [
    {
     "data": {
      "text/plain": [
       "type ('a, 'b) table_hachage = {\n",
       "  hache : 'a -> int;\n",
       "  donnees : ('a * 'b) list array;\n",
       "  largeur : int;\n",
       "}\n"
      ]
     },
     "execution_count": 1,
     "metadata": {},
     "output_type": "execute_result"
    }
   ],
   "source": [
    "type ('a, 'b) table_hachage = {hache: 'a -> int; donnees: ('a * 'b) list array; largeur: int};;"
   ]
  },
  {
   "cell_type": "code",
   "execution_count": 13,
   "id": "d4c64b18-3379-4fbf-bfb9-d008ea070ef6",
   "metadata": {},
   "outputs": [
    {
     "data": {
      "text/plain": [
       "val creer : ('a -> int) -> int -> ('a, 'b) table_hachage = <fun>\n"
      ]
     },
     "execution_count": 13,
     "metadata": {},
     "output_type": "execute_result"
    }
   ],
   "source": [
    "let creer h w =\n",
    "    {hache=h; donnees=Array.make w []; largeur=w};;"
   ]
  },
  {
   "cell_type": "code",
   "execution_count": 38,
   "id": "1a0a48ca-fdec-46b7-bf2f-1928867993f2",
   "metadata": {},
   "outputs": [
    {
     "data": {
      "text/plain": [
       "val recherche : ('a, 'b) table_hachage -> 'a -> bool = <fun>\n"
      ]
     },
     "execution_count": 38,
     "metadata": {},
     "output_type": "execute_result"
    },
    {
     "data": {
      "text/plain": [
       "val recherche : ('a, 'b) table_hachage -> 'a -> bool = <fun>\n"
      ]
     },
     "execution_count": 38,
     "metadata": {},
     "output_type": "execute_result"
    }
   ],
   "source": [
    "let recherche t k =\n",
    "    let hash = t.hache k in\n",
    "    let rec valeur l k = match l with\n",
    "        | (k', _)::q -> k'= k || valeur q k\n",
    "        | [] -> false in\n",
    "    valeur t.donnees.(hash) k;;\n",
    "    \n",
    "let recherche t k =\n",
    "    List.mem k (List.map fst t.donnees.(t.hache k))"
   ]
  },
  {
   "cell_type": "code",
   "execution_count": 17,
   "id": "bdf44afe-5a9b-4aa5-ae94-51d6ebae6c0d",
   "metadata": {},
   "outputs": [
    {
     "data": {
      "text/plain": [
       "- : 'a -> 'a list -> bool = <fun>\n"
      ]
     },
     "execution_count": 17,
     "metadata": {},
     "output_type": "execute_result"
    }
   ],
   "source": []
  },
  {
   "cell_type": "code",
   "execution_count": 32,
   "id": "571188fa-f114-445b-ba34-6cd75cdeefb7",
   "metadata": {},
   "outputs": [
    {
     "data": {
      "text/plain": [
       "val element : ('a, 'b) table_hachage -> 'a -> 'b = <fun>\n"
      ]
     },
     "execution_count": 32,
     "metadata": {},
     "output_type": "execute_result"
    }
   ],
   "source": [
    "let element t k =\n",
    "    let hash = t.hache k in\n",
    "    let rec valeur l k = match l with\n",
    "        | (key, v)::q when key = k -> v\n",
    "        | (_, _)::q -> valeur q k\n",
    "        | [] -> failwith \"Element non trouvé\" in\n",
    "    valeur t.donnees.(hash) k;;"
   ]
  },
  {
   "cell_type": "code",
   "execution_count": 39,
   "id": "56bfbdc2-3a23-400c-8485-97354d085f99",
   "metadata": {},
   "outputs": [
    {
     "data": {
      "text/plain": [
       "val ajout : ('a, 'b) table_hachage -> 'a -> 'b -> unit = <fun>\n"
      ]
     },
     "execution_count": 39,
     "metadata": {},
     "output_type": "execute_result"
    }
   ],
   "source": [
    "let ajout t k e = \n",
    "    if recherche t k then failwith \"Clé existante\"\n",
    "    else let hash = t.hache k in\n",
    "        t.donnees.(hash) <- (k, e)::t.donnees.(hash);;"
   ]
  },
  {
   "cell_type": "code",
   "execution_count": 40,
   "id": "84f6e50c-9f32-4f8a-9531-a6cc579a88dd",
   "metadata": {},
   "outputs": [
    {
     "data": {
      "text/plain": [
       "val suppr : ('a, 'b) table_hachage -> 'a -> unit = <fun>\n"
      ]
     },
     "execution_count": 40,
     "metadata": {},
     "output_type": "execute_result"
    }
   ],
   "source": [
    "let suppr t k =\n",
    "    let hash = t.hache k in\n",
    "    let rec suppr_l k l = match l with\n",
    "        | (key, l)::q when key=k -> q\n",
    "        | e::q -> e::(suppr_l k q)\n",
    "        | [] -> [] in\n",
    "    t.donnees.(hash) <- (suppr_l k t.donnees.(hash));;"
   ]
  },
  {
   "cell_type": "code",
   "execution_count": 41,
   "id": "acd14fe3-dd35-4c7f-9db0-52bec1a83060",
   "metadata": {},
   "outputs": [
    {
     "data": {
      "text/plain": [
       "type ('a, 'b) table_dyn = {\n",
       "  hache : int -> 'a -> int;\n",
       "  mutable taille : int;\n",
       "  mutable donnees : ('a * 'b) list array;\n",
       "  mutable largeur : int;\n",
       "}\n"
      ]
     },
     "execution_count": 41,
     "metadata": {},
     "output_type": "execute_result"
    }
   ],
   "source": [
    "type ('a, 'b) table_dyn = {\n",
    "    hache: int -> 'a -> int;\n",
    "    mutable taille: int;\n",
    "    mutable donnees: ('a * 'b) list array;\n",
    "    mutable largeur: int\n",
    "};;"
   ]
  },
  {
   "cell_type": "code",
   "execution_count": 43,
   "id": "dee5c8b9-a4da-4542-88ba-1b98851b097b",
   "metadata": {},
   "outputs": [
    {
     "data": {
      "text/plain": [
       "val creer_dyn : (int -> 'a -> int) -> ('a, 'b) table_dyn = <fun>\n"
      ]
     },
     "execution_count": 43,
     "metadata": {},
     "output_type": "execute_result"
    }
   ],
   "source": [
    "let creer_dyn h =\n",
    "    {hache=h; taille=0; donnees=[| [] |]; largeur=1};;"
   ]
  },
  {
   "cell_type": "code",
   "execution_count": 44,
   "id": "b1dd4cdb-fbe2-417e-b1e9-e9986d198066",
   "metadata": {},
   "outputs": [
    {
     "data": {
      "text/plain": [
       "val h : int -> int -> int = <fun>\n"
      ]
     },
     "execution_count": 44,
     "metadata": {},
     "output_type": "execute_result"
    }
   ],
   "source": [
    "let h w k =\n",
    "    k mod w;;"
   ]
  },
  {
   "cell_type": "code",
   "execution_count": 49,
   "id": "88470f98-59e2-4159-97cf-41f900f98b6d",
   "metadata": {},
   "outputs": [
    {
     "data": {
      "text/plain": [
       "val rearrange : ('a, 'b) table_dyn -> int -> unit = <fun>\n"
      ]
     },
     "execution_count": 49,
     "metadata": {},
     "output_type": "execute_result"
    }
   ],
   "source": [
    "let rearrange t w2 =\n",
    "    let a2 = Array.make w2 [] in\n",
    "    let rec distrib l = match l with\n",
    "    | [] -> ()\n",
    "    | e::q -> let h = t.hache w2 (fst e) in\n",
    "            a2.(h) <- e::a2.(h);\n",
    "            distrib q in\n",
    "    for i=0 to t.largeur - 1 do\n",
    "        distrib t.donnees.(i)\n",
    "    done;\n",
    "    t.donnees <- a2;\n",
    "    t.largeur <- w2;;"
   ]
  },
  {
   "cell_type": "code",
   "execution_count": null,
   "id": "d752b404-d83a-4eec-b048-1c74015ed272",
   "metadata": {},
   "outputs": [],
   "source": []
  }
 ],
 "metadata": {
  "kernelspec": {
   "display_name": "OCaml default",
   "language": "OCaml",
   "name": "ocaml-jupyter"
  },
  "language_info": {
   "codemirror_mode": "text/x-ocaml",
   "file_extension": ".ml",
   "mimetype": "text/x-ocaml",
   "name": "OCaml",
   "nbconverter_exporter": null,
   "pygments_lexer": "OCaml",
   "version": "4.08.1"
  }
 },
 "nbformat": 4,
 "nbformat_minor": 5
}
