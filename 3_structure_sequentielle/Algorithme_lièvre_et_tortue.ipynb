{
 "cells": [
  {
   "cell_type": "code",
   "execution_count": 2,
   "id": "c6f752a5-4fdc-4eda-9cd2-e0a3aedc4fba",
   "metadata": {},
   "outputs": [
    {
     "data": {
      "text/plain": [
       "type 'a case = { elem : 'a; mutable next : 'a liste1; }\n",
       "and 'a liste1 = Vide | C of 'a case\n"
      ]
     },
     "execution_count": 2,
     "metadata": {},
     "output_type": "execute_result"
    }
   ],
   "source": [
    "type 'a case = { elem : 'a; mutable next : 'a liste1 }\n",
    "and 'a liste1 = Vide | C of 'a case;;"
   ]
  },
  {
   "cell_type": "code",
   "execution_count": 22,
   "id": "9333f1b1-4180-4af4-841b-80469e5df983",
   "metadata": {},
   "outputs": [
    {
     "data": {
      "text/plain": [
       "val l : int case = {elem = 1; next = C {elem = 2; next = Vide}}\n"
      ]
     },
     "execution_count": 22,
     "metadata": {},
     "output_type": "execute_result"
    }
   ],
   "source": [
    "let l = {elem=1; next=C {elem=2; next=Vide}};;"
   ]
  },
  {
   "cell_type": "code",
   "execution_count": 4,
   "id": "524918e3-e836-46d9-84bb-44eb8b20f3a8",
   "metadata": {},
   "outputs": [
    {
     "data": {
      "text/plain": [
       "val to_list : 'a liste1 -> 'a list = <fun>\n"
      ]
     },
     "execution_count": 4,
     "metadata": {},
     "output_type": "execute_result"
    }
   ],
   "source": [
    "let rec to_list l = match l with\n",
    "    | Vide -> []\n",
    "    | C {elem=e; next=q} -> e::(to_list q);;"
   ]
  },
  {
   "cell_type": "code",
   "execution_count": 5,
   "id": "043b20d9-b74b-4cb6-9d8f-e6110c4544b7",
   "metadata": {},
   "outputs": [
    {
     "data": {
      "text/plain": [
       "- : int list = [1; 2]\n"
      ]
     },
     "execution_count": 5,
     "metadata": {},
     "output_type": "execute_result"
    }
   ],
   "source": [
    "to_list (C l)"
   ]
  },
  {
   "cell_type": "code",
   "execution_count": 6,
   "id": "ae259930-2561-4927-8489-46e6da466fea",
   "metadata": {},
   "outputs": [
    {
     "data": {
      "text/plain": [
       "val has_cycle : 'a liste1 -> 'a case list -> bool = <fun>\n"
      ]
     },
     "execution_count": 6,
     "metadata": {},
     "output_type": "execute_result"
    }
   ],
   "source": [
    "let rec has_cycle l vus = match l with\n",
    "    | Vide -> false\n",
    "    | C (lc) -> (List.memq lc vus) || has_cycle lc.next (lc::vus);;"
   ]
  },
  {
   "cell_type": "code",
   "execution_count": 7,
   "id": "313f7e9f-6ab9-44c4-9199-908a441fbbdf",
   "metadata": {},
   "outputs": [
    {
     "data": {
      "text/plain": [
       "- : bool = false\n"
      ]
     },
     "execution_count": 7,
     "metadata": {},
     "output_type": "execute_result"
    }
   ],
   "source": [
    "has_cycle (C l) []"
   ]
  },
  {
   "cell_type": "code",
   "execution_count": 24,
   "id": "27b32b3c-2050-4a1b-a2c6-4b563a427eaa",
   "metadata": {},
   "outputs": [
    {
     "data": {
      "text/plain": [
       "val l : int case = {elem = 1; next = C {elem = 2; next = Vide}}\n"
      ]
     },
     "execution_count": 24,
     "metadata": {},
     "output_type": "execute_result"
    }
   ],
   "source": [
    "let l = {elem=1; next=C {elem=2; next=Vide}};;"
   ]
  },
  {
   "cell_type": "code",
   "execution_count": 25,
   "id": "fc9522b7-ebbb-4557-987a-989bb54df8a3",
   "metadata": {},
   "outputs": [
    {
     "data": {
      "text/plain": [
       "- : unit = ()\n"
      ]
     },
     "execution_count": 25,
     "metadata": {},
     "output_type": "execute_result"
    }
   ],
   "source": [
    "l.next <- (C l)"
   ]
  },
  {
   "cell_type": "code",
   "execution_count": 10,
   "id": "48df438e-267f-4c78-8077-124bf2b96fef",
   "metadata": {},
   "outputs": [
    {
     "data": {
      "text/plain": [
       "- : int case = {elem = 1; next = C <cycle>}\n"
      ]
     },
     "execution_count": 10,
     "metadata": {},
     "output_type": "execute_result"
    }
   ],
   "source": [
    "l"
   ]
  },
  {
   "cell_type": "code",
   "execution_count": 11,
   "id": "a1e6aa40-9714-4568-82a0-56b3e651915e",
   "metadata": {},
   "outputs": [
    {
     "data": {
      "text/plain": [
       "- : bool = true\n"
      ]
     },
     "execution_count": 11,
     "metadata": {},
     "output_type": "execute_result"
    }
   ],
   "source": [
    "has_cycle (C l) []"
   ]
  },
  {
   "cell_type": "code",
   "execution_count": 27,
   "id": "bf839584-fa61-440e-9da9-7fdcc17a3243",
   "metadata": {},
   "outputs": [
    {
     "data": {
      "text/plain": [
       "val step : 'a liste1 -> 'a liste1 = <fun>\n"
      ]
     },
     "execution_count": 27,
     "metadata": {},
     "output_type": "execute_result"
    }
   ],
   "source": [
    "let step l = match l with\n",
    "    | C c1 -> c1.next\n",
    "    | Vide -> Vide;;"
   ]
  },
  {
   "cell_type": "code",
   "execution_count": 16,
   "id": "cb20f433-0e06-4923-983a-cf7bb9aedfef",
   "metadata": {},
   "outputs": [],
   "source": [
    "(*En se plaçant dans le référentiel de la tortue, le lapin s'éloigne de 1 à chaque tour.\n",
    "Donc il croisera forcément la tortue*)"
   ]
  },
  {
   "cell_type": "code",
   "execution_count": 32,
   "id": "ee245384-4973-48bc-8d5b-6b41aeefe6cd",
   "metadata": {},
   "outputs": [
    {
     "data": {
      "text/plain": [
       "val has_cycle : 'a liste1 -> 'a liste1 -> bool = <fun>\n"
      ]
     },
     "execution_count": 32,
     "metadata": {},
     "output_type": "execute_result"
    }
   ],
   "source": [
    "let rec has_cycle t l = \n",
    "    if l = Vide then false\n",
    "    else t == l || has_cycle (step t) (step (step l));;"
   ]
  },
  {
   "cell_type": "code",
   "execution_count": 30,
   "id": "ad21aa30-d5ff-485a-bf02-7281d1ed7e40",
   "metadata": {},
   "outputs": [
    {
     "data": {
      "text/plain": [
       "- : bool = true\n"
      ]
     },
     "execution_count": 30,
     "metadata": {},
     "output_type": "execute_result"
    }
   ],
   "source": [
    "has_cycle (step (C l)) (C l)"
   ]
  },
  {
   "cell_type": "code",
   "execution_count": 28,
   "id": "80539ae1-b6cb-47ad-8e7c-50be6760aa06",
   "metadata": {},
   "outputs": [],
   "source": [
    "(* Linéaire en temps, Constant en espace *)"
   ]
  },
  {
   "cell_type": "code",
   "execution_count": null,
   "id": "28b104c1-411e-4e57-a9f9-8f8b7e46cd90",
   "metadata": {},
   "outputs": [],
   "source": []
  }
 ],
 "metadata": {
  "kernelspec": {
   "display_name": "OCaml default",
   "language": "OCaml",
   "name": "ocaml-jupyter"
  },
  "language_info": {
   "codemirror_mode": "text/x-ocaml",
   "file_extension": ".ml",
   "mimetype": "text/x-ocaml",
   "name": "OCaml",
   "nbconverter_exporter": null,
   "pygments_lexer": "OCaml",
   "version": "4.08.1"
  }
 },
 "nbformat": 4,
 "nbformat_minor": 5
}
