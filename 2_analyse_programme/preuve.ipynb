{
 "cells": [
  {
   "cell_type": "code",
   "execution_count": 21,
   "id": "47162792-d5fc-4871-a61c-919618e48b75",
   "metadata": {},
   "outputs": [
    {
     "data": {
      "text/plain": [
       "val tranche_max : int array -> int * int * int = <fun>\n"
      ]
     },
     "execution_count": 21,
     "metadata": {},
     "output_type": "execute_result"
    }
   ],
   "source": [
    "let tranche_max t = (* renvoie tranche_max, son début, sa fin *)\n",
    "    let s = ref t.(0) in (* s est le max de sj *)\n",
    "    let sj = ref t.(0) in (* sj est la somme consécutive max finissant en t.(j) *)\n",
    "    let deb = ref 0 in\n",
    "    let fin = ref 0 in\n",
    "    let deb_sj = ref 0 in\n",
    "    for j=1 to Array.length t -1 do\n",
    "        sj := !sj + t.(j);\n",
    "        if !sj < t.(j) then (sj := t.(j); deb_sj := j);\n",
    "        if !s < !sj then (s := !sj; deb := !deb_sj; fin :=j)\n",
    "    done;\n",
    "    (!s, !deb, !fin);;\n",
    "    \n",
    "    "
   ]
  },
  {
   "cell_type": "code",
   "execution_count": 23,
   "id": "ad8a4368-cc37-4d6d-b546-3d0ae66e33ad",
   "metadata": {},
   "outputs": [
    {
     "data": {
      "text/plain": [
       "- : int * int * int = (7, 3, 4)\n"
      ]
     },
     "execution_count": 23,
     "metadata": {},
     "output_type": "execute_result"
    }
   ],
   "source": [
    "tranche_max [|1;2;-4;5;2;-4|];;"
   ]
  },
  {
   "cell_type": "code",
   "execution_count": 35,
   "id": "1a9a67c6-1ec3-4316-a8b7-3b4a9b465e2c",
   "metadata": {},
   "outputs": [
    {
     "data": {
      "text/plain": [
       "val insere : 'a -> 'a list -> 'a list = <fun>\n"
      ]
     },
     "execution_count": 35,
     "metadata": {},
     "output_type": "execute_result"
    }
   ],
   "source": [
    "let rec insere e l = match l with\n",
    "    | e1::q when e1 > e -> e::l\n",
    "    | e1::q -> e1::(insere e q)\n",
    "    | [] -> [e];;"
   ]
  },
  {
   "cell_type": "code",
   "execution_count": 36,
   "id": "49546258-e107-439f-b36a-2351c87fd9cf",
   "metadata": {},
   "outputs": [
    {
     "data": {
      "text/plain": [
       "- : int list = [1; 3; 4; 5]\n"
      ]
     },
     "execution_count": 36,
     "metadata": {},
     "output_type": "execute_result"
    }
   ],
   "source": [
    "insere 3 [1;4;5];;"
   ]
  },
  {
   "cell_type": "code",
   "execution_count": 37,
   "id": "f7c10d33-3e00-4d54-8751-0a658c8f9f53",
   "metadata": {},
   "outputs": [
    {
     "data": {
      "text/plain": [
       "val tri_insertion : 'a list -> 'a list = <fun>\n"
      ]
     },
     "execution_count": 37,
     "metadata": {},
     "output_type": "execute_result"
    }
   ],
   "source": [
    "let rec tri_insertion l = match l with\n",
    "    | [] -> []\n",
    "    | x::q -> insere x (tri_insertion q);;"
   ]
  },
  {
   "cell_type": "code",
   "execution_count": 38,
   "id": "83eb18da-a1ab-4a12-b0f0-5500b4758012",
   "metadata": {},
   "outputs": [
    {
     "data": {
      "text/plain": [
       "- : int list = [1; 3; 5; 7]\n"
      ]
     },
     "execution_count": 38,
     "metadata": {},
     "output_type": "execute_result"
    }
   ],
   "source": [
    "tri_insertion [1;5;3;7];;"
   ]
  },
  {
   "cell_type": "code",
   "execution_count": null,
   "id": "663abacd-801d-46f1-981c-c8edaa81c85b",
   "metadata": {},
   "outputs": [],
   "source": [
    "let egale t1 t2 = \n",
    "    let i = ref "
   ]
  }
 ],
 "metadata": {
  "kernelspec": {
   "display_name": "OCaml default",
   "language": "OCaml",
   "name": "ocaml-jupyter"
  },
  "language_info": {
   "codemirror_mode": "text/x-ocaml",
   "file_extension": ".ml",
   "mimetype": "text/x-ocaml",
   "name": "OCaml",
   "nbconverter_exporter": null,
   "pygments_lexer": "OCaml",
   "version": "4.08.1"
  }
 },
 "nbformat": 4,
 "nbformat_minor": 5
}
